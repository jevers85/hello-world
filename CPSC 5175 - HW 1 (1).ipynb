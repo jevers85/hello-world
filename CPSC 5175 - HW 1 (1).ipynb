{
 "cells": [
  {
   "cell_type": "markdown",
   "metadata": {},
   "source": [
    "# CPSC 5175 HW 1: Jacob Evers\n",
    "\n",
    "## Problem 1:\n",
    "\n",
    "<p> Q1: (Conditional Statement)  Financials: currency exchange ---  Write a program that prompts the user to enter the exchange rate from currency in U.S. dollars to Chinese RMB. Prompt the user to enter 0 to convert from U.S. dollars to Chinese RMB and 1 to convert from Chinese RMB and U.S. dollars. Prompt the user to enter the amount in U.S. dollars or Chinese RMB to convert it to Chinese RMB or U.S. dollars, respectively.</p>\n",
    "\n",
    "Here are the sample runs:<br>\n",
    "Enter the exchange rate from dollars to RMB: 6.81 <br>\n",
    "Enter 0 to convert dollars to RMB and 1 vice versa: 0 <br>\n",
    "Enter the dollar amount: 100 <br>\n",
    "$100.0 is 681.0 yuan <br>"
   ]
  },
  {
   "cell_type": "code",
   "execution_count": 5,
   "metadata": {},
   "outputs": [
    {
     "name": "stdout",
     "output_type": "stream",
     "text": [
      "Enter the exchange rate from US dollars to RMB: 6.81\n",
      "Enter '0' to convert dollars to RMB and '1' vice versa 0\n",
      "Enter the amount of currency you wish to convert 100\n",
      "$100.00 dollars is 681.00 yuan.\n"
     ]
    }
   ],
   "source": [
    "# Prompt the user to enter the current exchange rate\n",
    "ex_rate = float(input(\"Enter the exchange rate from US dollars to RMB: \"))\n",
    "\n",
    "# Prompt the user to select which currency they wish to convert. This variable is being left \n",
    "# as type \"string\" because it is not being used for calculations.\n",
    "user_choice = input(\"Enter '0' to convert dollars to RMB and '1' vice versa \")\n",
    "\n",
    "# Enter the amount of currency to be converted\n",
    "money_amount = float(input(\"Enter the amount of currency you wish to convert \"))\n",
    "\n",
    "# Calculate the conversion, based on which direction the user wishes to go, and print a formatted output\n",
    "if user_choice == '0':\n",
    "    your_money = ex_rate * money_amount\n",
    "    print(f\"${money_amount:.2f} dollars is {your_money:.2f} yuan.\")\n",
    "\n",
    "if user_choice == '1':\n",
    "    your_money = money_amount / ex_rate\n",
    "    print(f\"{money_amount:.2f} yuan is ${your_money:.2f} dollars.\")         "
   ]
  },
  {
   "cell_type": "markdown",
   "metadata": {},
   "source": [
    "# Problem 2:\n",
    "\n",
    "<p>Q2: (Loop Statement) Financial application: compute CD value --- Suppose you put $10,000 into a CD with an annual percentage yield of 5.75%.</p>\n",
    "\n",
    "<ul>\n",
    "<li>After one month, the CD is worth: 10000 + 10000 * 5.75 / 1200 = 10047.91</li>\n",
    "<li>After two months, the CD is worth: 10047.91 + 10047.91 * 5.75 / 1200 = 10096.06</li>\n",
    "<li>After three months, the CD is worth: 10096.06 + 10096.06 * 5.75 / 1200 = 10144.43\n",
    "and so on ...</li>\n",
    "</ul>\n",
    "<p>Write a program that prompts the user to enter an amount (e.g., 10000), the annual percentage yield (e.g., 5.75), and the number of months (e.g., 18) and displays a table:</p>"
   ]
  },
  {
   "cell_type": "code",
   "execution_count": 4,
   "metadata": {},
   "outputs": [
    {
     "name": "stdout",
     "output_type": "stream",
     "text": [
      "Please enter the starting amount ($) 10000\n",
      "Please enter the APR in terms of percentage 5.75\n",
      "Please enter the term (in months) 36\n",
      "Month 1 - $10047.92\n",
      "Month 2 - $10096.06\n",
      "Month 3 - $10144.44\n",
      "Month 4 - $10193.05\n",
      "Month 5 - $10241.89\n",
      "Month 6 - $10290.97\n",
      "Month 7 - $10340.28\n",
      "Month 8 - $10389.82\n",
      "Month 9 - $10439.61\n",
      "Month 10 - $10489.63\n",
      "Month 11 - $10539.89\n",
      "Month 12 - $10590.40\n",
      "Month 13 - $10641.14\n",
      "Month 14 - $10692.13\n",
      "Month 15 - $10743.37\n",
      "Month 16 - $10794.84\n",
      "Month 17 - $10846.57\n",
      "Month 18 - $10898.54\n",
      "Month 19 - $10950.77\n",
      "Month 20 - $11003.24\n",
      "Month 21 - $11055.96\n",
      "Month 22 - $11108.94\n",
      "Month 23 - $11162.17\n",
      "Month 24 - $11215.65\n",
      "Month 25 - $11269.40\n",
      "Month 26 - $11323.39\n",
      "Month 27 - $11377.65\n",
      "Month 28 - $11432.17\n",
      "Month 29 - $11486.95\n",
      "Month 30 - $11541.99\n",
      "Month 31 - $11597.30\n",
      "Month 32 - $11652.87\n",
      "Month 33 - $11708.70\n",
      "Month 34 - $11764.81\n",
      "Month 35 - $11821.18\n",
      "Month 36 - $11877.82\n"
     ]
    }
   ],
   "source": [
    "# Collect user input as described in problem statement, casting variables to float or int from string as necessary\n",
    "balance = float(input(\"Please enter the starting amount ($) \"))\n",
    "interest_rate = float(input(\"Please enter the APR in terms of percentage \"))\n",
    "term = int(input(\"Please enter the term (in months) \"))\n",
    "\n",
    "# Run the calculation, adding the interest earned to the balance for each month of the specified term, and print a formatted\n",
    "# balance amount for each month\n",
    "for x in range (0,term):\n",
    "    balance = balance + balance * (interest_rate / 1200)\n",
    "    x = x+1\n",
    "    print(f\"Month {x} - ${balance:.2f}\")\n"
   ]
  }
 ],
 "metadata": {
  "kernelspec": {
   "display_name": "Python 3",
   "language": "python",
   "name": "python3"
  },
  "language_info": {
   "codemirror_mode": {
    "name": "ipython",
    "version": 3
   },
   "file_extension": ".py",
   "mimetype": "text/x-python",
   "name": "python",
   "nbconvert_exporter": "python",
   "pygments_lexer": "ipython3",
   "version": "3.8.3"
  }
 },
 "nbformat": 4,
 "nbformat_minor": 4
}
