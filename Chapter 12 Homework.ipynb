{
 "cells": [
  {
   "cell_type": "markdown",
   "metadata": {},
   "source": [
    "<ol start=31><li>Standardize or normalize the predictors.\n",
    "<li>Construct the correlation matrix for the predictors. Between which predictors do you find the highest correlations?\n",
    "<li>Build a regression model to estimate quality based on the predictors. Obtain the VIFs from the model. Which VIFs indicate that multicollinearity is a problem? Compare the variables with high VIF to the correlated variables from the previous exercise.\n",
    "<li>Perform PCA using varimax rotation. Show the rotated proportions of variance explained for extracting up to five components. What percent of the variability is explained by one component? By two components? By three components? By four components? By all five components?\n",
    "<li>Say we want to explain at least 90% of the variability. How many components does the proportion of variance explained criterion suggest we extract?\n",
    "<li>Make a plot of the eigenvalues of the five components. According to the eigenvalue criterion, how many components should we extract?\n",
    "<li>Combine the recommendations from the two criteria to reach a consensus as to how many components we should extract.\n",
    "<li>Profile each of your components, stating which variables are included, and noting their within‐component correlation (positive or negative). For simplicity, consider components weights greater than 0.5 only.\n",
    "<li>Produce the correlation matrix for the components. What do these values mean?\n",
    "<li>Next, use only the components you extracted to estimate wine quality using a regression model. Do not include the original predictors.\n",
    "<ol><li>Compare the values of s and images between the PCA regression and the original regression model.\n",
    "<li>Explain why the original model slightly outperformed the PCA model.\n",
    "    <li>Explain how the PCA model may be considered superior, even though slightly outperformed?</ol>\n",
    "<li>In your regression from the previous exercise, what are the VIFs of the two components in the regression model? What do these values mean?</ol>"
   ]
  },
  {
   "cell_type": "code",
   "execution_count": 64,
   "metadata": {},
   "outputs": [],
   "source": [
    "import pandas as pd\n",
    "import numpy as np\n",
    "from scipy import stats\n",
    "import statsmodels.api as sm\n",
    "import statsmodels.stats.outliers_influence as inf\n",
    "from sklearn.preprocessing import StandardScaler\n",
    "from sklearn.decomposition import PCA\n",
    "\n",
    "wine_train = pd.read_csv(r\"C:\\Users\\jevers\\Documents\\Jupyter Files\\CPSC 5175\\Datasets\\Website Data Sets\\red_wine_PCA_training\")\n",
    "wine_test = pd.read_csv(r\"C:\\Users\\jevers\\Documents\\Jupyter Files\\CPSC 5175\\Datasets\\Website Data Sets\\red_wine_PCA_test\")"
   ]
  },
  {
   "cell_type": "code",
   "execution_count": 65,
   "metadata": {},
   "outputs": [
    {
     "data": {
      "text/html": [
       "<div>\n",
       "<style scoped>\n",
       "    .dataframe tbody tr th:only-of-type {\n",
       "        vertical-align: middle;\n",
       "    }\n",
       "\n",
       "    .dataframe tbody tr th {\n",
       "        vertical-align: top;\n",
       "    }\n",
       "\n",
       "    .dataframe thead th {\n",
       "        text-align: right;\n",
       "    }\n",
       "</style>\n",
       "<table border=\"1\" class=\"dataframe\">\n",
       "  <thead>\n",
       "    <tr style=\"text-align: right;\">\n",
       "      <th></th>\n",
       "      <th>type</th>\n",
       "      <th>alcohol</th>\n",
       "      <th>density</th>\n",
       "      <th>fixed acidity</th>\n",
       "      <th>pH</th>\n",
       "      <th>quality</th>\n",
       "      <th>residual sugar</th>\n",
       "    </tr>\n",
       "  </thead>\n",
       "  <tbody>\n",
       "    <tr>\n",
       "      <th>0</th>\n",
       "      <td>red</td>\n",
       "      <td>8.5</td>\n",
       "      <td>0.99914</td>\n",
       "      <td>10.0</td>\n",
       "      <td>3.15</td>\n",
       "      <td>5</td>\n",
       "      <td>1.6</td>\n",
       "    </tr>\n",
       "    <tr>\n",
       "      <th>1</th>\n",
       "      <td>red</td>\n",
       "      <td>9.0</td>\n",
       "      <td>1.00040</td>\n",
       "      <td>13.3</td>\n",
       "      <td>3.06</td>\n",
       "      <td>5</td>\n",
       "      <td>1.9</td>\n",
       "    </tr>\n",
       "    <tr>\n",
       "      <th>2</th>\n",
       "      <td>red</td>\n",
       "      <td>9.0</td>\n",
       "      <td>0.99560</td>\n",
       "      <td>7.3</td>\n",
       "      <td>3.37</td>\n",
       "      <td>4</td>\n",
       "      <td>1.6</td>\n",
       "    </tr>\n",
       "    <tr>\n",
       "      <th>3</th>\n",
       "      <td>red</td>\n",
       "      <td>9.0</td>\n",
       "      <td>0.99717</td>\n",
       "      <td>8.0</td>\n",
       "      <td>3.39</td>\n",
       "      <td>5</td>\n",
       "      <td>1.9</td>\n",
       "    </tr>\n",
       "    <tr>\n",
       "      <th>4</th>\n",
       "      <td>red</td>\n",
       "      <td>9.0</td>\n",
       "      <td>0.99780</td>\n",
       "      <td>7.0</td>\n",
       "      <td>3.48</td>\n",
       "      <td>5</td>\n",
       "      <td>1.8</td>\n",
       "    </tr>\n",
       "  </tbody>\n",
       "</table>\n",
       "</div>"
      ],
      "text/plain": [
       "  type  alcohol  density  fixed acidity    pH  quality  residual sugar\n",
       "0  red      8.5  0.99914           10.0  3.15        5             1.6\n",
       "1  red      9.0  1.00040           13.3  3.06        5             1.9\n",
       "2  red      9.0  0.99560            7.3  3.37        4             1.6\n",
       "3  red      9.0  0.99717            8.0  3.39        5             1.9\n",
       "4  red      9.0  0.99780            7.0  3.48        5             1.8"
      ]
     },
     "execution_count": 65,
     "metadata": {},
     "output_type": "execute_result"
    }
   ],
   "source": [
    "wine_train.head()"
   ]
  },
  {
   "cell_type": "markdown",
   "metadata": {},
   "source": [
    "<b>31. Standardize or normalize the predictors.</b>"
   ]
  },
  {
   "cell_type": "code",
   "execution_count": 66,
   "metadata": {},
   "outputs": [],
   "source": [
    "# Putting the data into a Pandas dataframe\n",
    "X = pd.DataFrame(wine_train[['alcohol', 'residual sugar', 'pH', 'density', 'fixed acidity']])\n",
    "\n",
    "# Q31. Normalizing the predictor variables using the Scipy package\n",
    "Xz = pd.DataFrame(stats.zscore(X), columns = ['alcohol', 'residual sugar', 'pH', 'density', 'fixed acidity'])"
   ]
  },
  {
   "cell_type": "code",
   "execution_count": 67,
   "metadata": {},
   "outputs": [
    {
     "data": {
      "text/html": [
       "<div>\n",
       "<style scoped>\n",
       "    .dataframe tbody tr th:only-of-type {\n",
       "        vertical-align: middle;\n",
       "    }\n",
       "\n",
       "    .dataframe tbody tr th {\n",
       "        vertical-align: top;\n",
       "    }\n",
       "\n",
       "    .dataframe thead th {\n",
       "        text-align: right;\n",
       "    }\n",
       "</style>\n",
       "<table border=\"1\" class=\"dataframe\">\n",
       "  <thead>\n",
       "    <tr style=\"text-align: right;\">\n",
       "      <th></th>\n",
       "      <th>alcohol</th>\n",
       "      <th>residual sugar</th>\n",
       "      <th>pH</th>\n",
       "      <th>density</th>\n",
       "      <th>fixed acidity</th>\n",
       "    </tr>\n",
       "  </thead>\n",
       "  <tbody>\n",
       "    <tr>\n",
       "      <th>alcohol</th>\n",
       "      <td>1.000000</td>\n",
       "      <td>0.023698</td>\n",
       "      <td>0.167717</td>\n",
       "      <td>-0.519857</td>\n",
       "      <td>-0.038576</td>\n",
       "    </tr>\n",
       "    <tr>\n",
       "      <th>residual sugar</th>\n",
       "      <td>0.023698</td>\n",
       "      <td>1.000000</td>\n",
       "      <td>-0.074161</td>\n",
       "      <td>0.317020</td>\n",
       "      <td>0.077262</td>\n",
       "    </tr>\n",
       "    <tr>\n",
       "      <th>pH</th>\n",
       "      <td>0.167717</td>\n",
       "      <td>-0.074161</td>\n",
       "      <td>1.000000</td>\n",
       "      <td>-0.307740</td>\n",
       "      <td>-0.663826</td>\n",
       "    </tr>\n",
       "    <tr>\n",
       "      <th>density</th>\n",
       "      <td>-0.519857</td>\n",
       "      <td>0.317020</td>\n",
       "      <td>-0.307740</td>\n",
       "      <td>1.000000</td>\n",
       "      <td>0.646620</td>\n",
       "    </tr>\n",
       "    <tr>\n",
       "      <th>fixed acidity</th>\n",
       "      <td>-0.038576</td>\n",
       "      <td>0.077262</td>\n",
       "      <td>-0.663826</td>\n",
       "      <td>0.646620</td>\n",
       "      <td>1.000000</td>\n",
       "    </tr>\n",
       "  </tbody>\n",
       "</table>\n",
       "</div>"
      ],
      "text/plain": [
       "                 alcohol  residual sugar        pH   density  fixed acidity\n",
       "alcohol         1.000000        0.023698  0.167717 -0.519857      -0.038576\n",
       "residual sugar  0.023698        1.000000 -0.074161  0.317020       0.077262\n",
       "pH              0.167717       -0.074161  1.000000 -0.307740      -0.663826\n",
       "density        -0.519857        0.317020 -0.307740  1.000000       0.646620\n",
       "fixed acidity  -0.038576        0.077262 -0.663826  0.646620       1.000000"
      ]
     },
     "execution_count": 67,
     "metadata": {},
     "output_type": "execute_result"
    }
   ],
   "source": [
    "Xz.corr()"
   ]
  },
  {
   "cell_type": "markdown",
   "metadata": {},
   "source": [
    "<b>32. Construct the correlation matrix for the predictors. Between which predictors do you find the highest correlations?</b>\n",
    "<ul><li>We can see strong positive correlation between fixed acidity and density, and moderate negative correlation between pH and fixed acidity</ul>"
   ]
  },
  {
   "cell_type": "code",
   "execution_count": 68,
   "metadata": {},
   "outputs": [
    {
     "data": {
      "text/plain": [
       "array([[<matplotlib.axes._subplots.AxesSubplot object at 0x0000017ED7B038E0>,\n",
       "        <matplotlib.axes._subplots.AxesSubplot object at 0x0000017ED7B6FB80>,\n",
       "        <matplotlib.axes._subplots.AxesSubplot object at 0x0000017ED7B9CFD0>,\n",
       "        <matplotlib.axes._subplots.AxesSubplot object at 0x0000017ED7BD4460>,\n",
       "        <matplotlib.axes._subplots.AxesSubplot object at 0x0000017ED7C008B0>],\n",
       "       [<matplotlib.axes._subplots.AxesSubplot object at 0x0000017ED7C2CC70>,\n",
       "        <matplotlib.axes._subplots.AxesSubplot object at 0x0000017ED7C2CD60>,\n",
       "        <matplotlib.axes._subplots.AxesSubplot object at 0x0000017ED7C66250>,\n",
       "        <matplotlib.axes._subplots.AxesSubplot object at 0x0000017ED7CBFA60>,\n",
       "        <matplotlib.axes._subplots.AxesSubplot object at 0x0000017ED7CECEB0>],\n",
       "       [<matplotlib.axes._subplots.AxesSubplot object at 0x0000017ED7D25340>,\n",
       "        <matplotlib.axes._subplots.AxesSubplot object at 0x0000017ED7D50790>,\n",
       "        <matplotlib.axes._subplots.AxesSubplot object at 0x0000017ED7D7CBE0>,\n",
       "        <matplotlib.axes._subplots.AxesSubplot object at 0x0000017ED7DAA0D0>,\n",
       "        <matplotlib.axes._subplots.AxesSubplot object at 0x0000017ED7DE2580>],\n",
       "       [<matplotlib.axes._subplots.AxesSubplot object at 0x0000017ED7E0E9D0>,\n",
       "        <matplotlib.axes._subplots.AxesSubplot object at 0x0000017ED7E3BE20>,\n",
       "        <matplotlib.axes._subplots.AxesSubplot object at 0x0000017ED7E762B0>,\n",
       "        <matplotlib.axes._subplots.AxesSubplot object at 0x0000017ED7EA0700>,\n",
       "        <matplotlib.axes._subplots.AxesSubplot object at 0x0000017ED7ECEB50>],\n",
       "       [<matplotlib.axes._subplots.AxesSubplot object at 0x0000017ED7EFBFA0>,\n",
       "        <matplotlib.axes._subplots.AxesSubplot object at 0x0000017ED7F33430>,\n",
       "        <matplotlib.axes._subplots.AxesSubplot object at 0x0000017ED7F5E880>,\n",
       "        <matplotlib.axes._subplots.AxesSubplot object at 0x0000017ED7F8CCD0>,\n",
       "        <matplotlib.axes._subplots.AxesSubplot object at 0x0000017ED7FC5160>]],\n",
       "      dtype=object)"
      ]
     },
     "execution_count": 68,
     "metadata": {},
     "output_type": "execute_result"
    },
    {
     "data": {
      "image/png": "[encoded data removed]",
      "text/plain": [
       "<Figure size 432x288 with 25 Axes>"
      ]
     },
     "metadata": {
      "needs_background": "light"
     },
     "output_type": "display_data"
    }
   ],
   "source": [
    "# Q32\n",
    "pd.plotting.scatter_matrix(Xz)"
   ]
  },
  {
   "cell_type": "markdown",
   "metadata": {},
   "source": [
    "# Does this satisfy Q33? Ask Mailman, do values need to be standardized? Training and Test data sets regression models don't match. What now?\n",
    "\n",
    "\n",
    "33.Build a regression model to estimate quality based on the predictors. Obtain the VIFs from the model. Which VIFs indicate that multicollinearity is a problem? Compare the variables with high VIF to the correlated variables from the previous exercise."
   ]
  },
  {
   "cell_type": "code",
   "execution_count": 69,
   "metadata": {},
   "outputs": [
    {
     "data": {
      "text/html": [
       "<table class=\"simpletable\">\n",
       "<caption>OLS Regression Results</caption>\n",
       "<tr>\n",
       "  <th>Dep. Variable:</th>         <td>quality</td>     <th>  R-squared:         </th> <td>   0.302</td>\n",
       "</tr>\n",
       "<tr>\n",
       "  <th>Model:</th>                   <td>OLS</td>       <th>  Adj. R-squared:    </th> <td>   0.297</td>\n",
       "</tr>\n",
       "<tr>\n",
       "  <th>Method:</th>             <td>Least Squares</td>  <th>  F-statistic:       </th> <td>   53.32</td>\n",
       "</tr>\n",
       "<tr>\n",
       "  <th>Date:</th>             <td>Tue, 06 Oct 2020</td> <th>  Prob (F-statistic):</th> <td>5.59e-46</td>\n",
       "</tr>\n",
       "<tr>\n",
       "  <th>Time:</th>                 <td>16:37:57</td>     <th>  Log-Likelihood:    </th> <td> -769.35</td>\n",
       "</tr>\n",
       "<tr>\n",
       "  <th>No. Observations:</th>      <td>   621</td>      <th>  AIC:               </th> <td>   1551.</td>\n",
       "</tr>\n",
       "<tr>\n",
       "  <th>Df Residuals:</th>          <td>   615</td>      <th>  BIC:               </th> <td>   1577.</td>\n",
       "</tr>\n",
       "<tr>\n",
       "  <th>Df Model:</th>              <td>     5</td>      <th>                     </th>     <td> </td>   \n",
       "</tr>\n",
       "<tr>\n",
       "  <th>Covariance Type:</th>      <td>nonrobust</td>    <th>                     </th>     <td> </td>   \n",
       "</tr>\n",
       "</table>\n",
       "<table class=\"simpletable\">\n",
       "<tr>\n",
       "         <td></td>           <th>coef</th>     <th>std err</th>      <th>t</th>      <th>P>|t|</th>  <th>[0.025</th>    <th>0.975]</th>  \n",
       "</tr>\n",
       "<tr>\n",
       "  <th>const</th>          <td>-4.274e-15</td> <td>    0.034</td> <td>-1.27e-13</td> <td> 1.000</td> <td>   -0.066</td> <td>    0.066</td>\n",
       "</tr>\n",
       "<tr>\n",
       "  <th>alcohol</th>        <td>    0.4709</td> <td>    0.056</td> <td>    8.469</td> <td> 0.000</td> <td>    0.362</td> <td>    0.580</td>\n",
       "</tr>\n",
       "<tr>\n",
       "  <th>residual sugar</th> <td>   -0.0214</td> <td>    0.041</td> <td>   -0.524</td> <td> 0.601</td> <td>   -0.102</td> <td>    0.059</td>\n",
       "</tr>\n",
       "<tr>\n",
       "  <th>pH</th>             <td>   -0.0885</td> <td>    0.054</td> <td>   -1.629</td> <td> 0.104</td> <td>   -0.195</td> <td>    0.018</td>\n",
       "</tr>\n",
       "<tr>\n",
       "  <th>density</th>        <td>   -0.1173</td> <td>    0.079</td> <td>   -1.492</td> <td> 0.136</td> <td>   -0.272</td> <td>    0.037</td>\n",
       "</tr>\n",
       "<tr>\n",
       "  <th>fixed acidity</th>  <td>    0.1855</td> <td>    0.081</td> <td>    2.301</td> <td> 0.022</td> <td>    0.027</td> <td>    0.344</td>\n",
       "</tr>\n",
       "</table>\n",
       "<table class=\"simpletable\">\n",
       "<tr>\n",
       "  <th>Omnibus:</th>       <td> 5.509</td> <th>  Durbin-Watson:     </th> <td>   1.896</td>\n",
       "</tr>\n",
       "<tr>\n",
       "  <th>Prob(Omnibus):</th> <td> 0.064</td> <th>  Jarque-Bera (JB):  </th> <td>   7.011</td>\n",
       "</tr>\n",
       "<tr>\n",
       "  <th>Skew:</th>          <td>-0.062</td> <th>  Prob(JB):          </th> <td>  0.0300</td>\n",
       "</tr>\n",
       "<tr>\n",
       "  <th>Kurtosis:</th>      <td> 3.506</td> <th>  Cond. No.          </th> <td>    5.60</td>\n",
       "</tr>\n",
       "</table><br/><br/>Warnings:<br/>[1] Standard Errors assume that the covariance matrix of the errors is correctly specified."
      ],
      "text/plain": [
       "<class 'statsmodels.iolib.summary.Summary'>\n",
       "\"\"\"\n",
       "                            OLS Regression Results                            \n",
       "==============================================================================\n",
       "Dep. Variable:                quality   R-squared:                       0.302\n",
       "Model:                            OLS   Adj. R-squared:                  0.297\n",
       "Method:                 Least Squares   F-statistic:                     53.32\n",
       "Date:                Tue, 06 Oct 2020   Prob (F-statistic):           5.59e-46\n",
       "Time:                        16:37:57   Log-Likelihood:                -769.35\n",
       "No. Observations:                 621   AIC:                             1551.\n",
       "Df Residuals:                     615   BIC:                             1577.\n",
       "Df Model:                           5                                         \n",
       "Covariance Type:            nonrobust                                         \n",
       "==================================================================================\n",
       "                     coef    std err          t      P>|t|      [0.025      0.975]\n",
       "----------------------------------------------------------------------------------\n",
       "const          -4.274e-15      0.034  -1.27e-13      1.000      -0.066       0.066\n",
       "alcohol            0.4709      0.056      8.469      0.000       0.362       0.580\n",
       "residual sugar    -0.0214      0.041     -0.524      0.601      -0.102       0.059\n",
       "pH                -0.0885      0.054     -1.629      0.104      -0.195       0.018\n",
       "density           -0.1173      0.079     -1.492      0.136      -0.272       0.037\n",
       "fixed acidity      0.1855      0.081      2.301      0.022       0.027       0.344\n",
       "==============================================================================\n",
       "Omnibus:                        5.509   Durbin-Watson:                   1.896\n",
       "Prob(Omnibus):                  0.064   Jarque-Bera (JB):                7.011\n",
       "Skew:                          -0.062   Prob(JB):                       0.0300\n",
       "Kurtosis:                       3.506   Cond. No.                         5.60\n",
       "==============================================================================\n",
       "\n",
       "Warnings:\n",
       "[1] Standard Errors assume that the covariance matrix of the errors is correctly specified.\n",
       "\"\"\""
      ]
     },
     "execution_count": 69,
     "metadata": {},
     "output_type": "execute_result"
    }
   ],
   "source": [
    "# Build data frame containing target variable. We already have df X containing predictor variables from a previous step\n",
    "Y = pd.DataFrame(wine_train[['quality']])\n",
    "# Standardize the target\n",
    "Yz = pd.DataFrame(stats.zscore(Y), columns = [['quality']])\n",
    "# Add a constant to the predictor variables\n",
    "Xz = sm.add_constant(Xz)\n",
    "# Run the regression model\n",
    "model01 = sm.OLS(Yz, Xz).fit()\n",
    "model01.summary()"
   ]
  },
  {
   "cell_type": "code",
   "execution_count": 70,
   "metadata": {},
   "outputs": [
    {
     "data": {
      "text/html": [
       "<table class=\"simpletable\">\n",
       "<caption>OLS Regression Results</caption>\n",
       "<tr>\n",
       "  <th>Dep. Variable:</th>         <td>quality</td>     <th>  R-squared:         </th> <td>   0.262</td>\n",
       "</tr>\n",
       "<tr>\n",
       "  <th>Model:</th>                   <td>OLS</td>       <th>  Adj. R-squared:    </th> <td>   0.256</td>\n",
       "</tr>\n",
       "<tr>\n",
       "  <th>Method:</th>             <td>Least Squares</td>  <th>  F-statistic:       </th> <td>   41.21</td>\n",
       "</tr>\n",
       "<tr>\n",
       "  <th>Date:</th>             <td>Tue, 06 Oct 2020</td> <th>  Prob (F-statistic):</th> <td>2.67e-36</td>\n",
       "</tr>\n",
       "<tr>\n",
       "  <th>Time:</th>                 <td>16:37:57</td>     <th>  Log-Likelihood:    </th> <td> -741.02</td>\n",
       "</tr>\n",
       "<tr>\n",
       "  <th>No. Observations:</th>      <td>   585</td>      <th>  AIC:               </th> <td>   1494.</td>\n",
       "</tr>\n",
       "<tr>\n",
       "  <th>Df Residuals:</th>          <td>   579</td>      <th>  BIC:               </th> <td>   1520.</td>\n",
       "</tr>\n",
       "<tr>\n",
       "  <th>Df Model:</th>              <td>     5</td>      <th>                     </th>     <td> </td>   \n",
       "</tr>\n",
       "<tr>\n",
       "  <th>Covariance Type:</th>      <td>nonrobust</td>    <th>                     </th>     <td> </td>   \n",
       "</tr>\n",
       "</table>\n",
       "<table class=\"simpletable\">\n",
       "<tr>\n",
       "         <td></td>           <th>coef</th>     <th>std err</th>      <th>t</th>      <th>P>|t|</th>  <th>[0.025</th>    <th>0.975]</th>  \n",
       "</tr>\n",
       "<tr>\n",
       "  <th>const</th>          <td>-3.456e-15</td> <td>    0.036</td> <td>-9.68e-14</td> <td> 1.000</td> <td>   -0.070</td> <td>    0.070</td>\n",
       "</tr>\n",
       "<tr>\n",
       "  <th>alcohol</th>        <td>    0.5566</td> <td>    0.061</td> <td>    9.156</td> <td> 0.000</td> <td>    0.437</td> <td>    0.676</td>\n",
       "</tr>\n",
       "<tr>\n",
       "  <th>residual sugar</th> <td>   -0.0024</td> <td>    0.044</td> <td>   -0.053</td> <td> 0.957</td> <td>   -0.089</td> <td>    0.084</td>\n",
       "</tr>\n",
       "<tr>\n",
       "  <th>pH</th>             <td>   -0.1315</td> <td>    0.061</td> <td>   -2.165</td> <td> 0.031</td> <td>   -0.251</td> <td>   -0.012</td>\n",
       "</tr>\n",
       "<tr>\n",
       "  <th>density</th>        <td>    0.0760</td> <td>    0.083</td> <td>    0.910</td> <td> 0.363</td> <td>   -0.088</td> <td>    0.240</td>\n",
       "</tr>\n",
       "<tr>\n",
       "  <th>fixed acidity</th>  <td>    0.0079</td> <td>    0.088</td> <td>    0.091</td> <td> 0.928</td> <td>   -0.164</td> <td>    0.180</td>\n",
       "</tr>\n",
       "</table>\n",
       "<table class=\"simpletable\">\n",
       "<tr>\n",
       "  <th>Omnibus:</th>       <td>25.074</td> <th>  Durbin-Watson:     </th> <td>   1.984</td>\n",
       "</tr>\n",
       "<tr>\n",
       "  <th>Prob(Omnibus):</th> <td> 0.000</td> <th>  Jarque-Bera (JB):  </th> <td>  45.210</td>\n",
       "</tr>\n",
       "<tr>\n",
       "  <th>Skew:</th>          <td>-0.286</td> <th>  Prob(JB):          </th> <td>1.52e-10</td>\n",
       "</tr>\n",
       "<tr>\n",
       "  <th>Kurtosis:</th>      <td> 4.236</td> <th>  Cond. No.          </th> <td>    5.85</td>\n",
       "</tr>\n",
       "</table><br/><br/>Warnings:<br/>[1] Standard Errors assume that the covariance matrix of the errors is correctly specified."
      ],
      "text/plain": [
       "<class 'statsmodels.iolib.summary.Summary'>\n",
       "\"\"\"\n",
       "                            OLS Regression Results                            \n",
       "==============================================================================\n",
       "Dep. Variable:                quality   R-squared:                       0.262\n",
       "Model:                            OLS   Adj. R-squared:                  0.256\n",
       "Method:                 Least Squares   F-statistic:                     41.21\n",
       "Date:                Tue, 06 Oct 2020   Prob (F-statistic):           2.67e-36\n",
       "Time:                        16:37:57   Log-Likelihood:                -741.02\n",
       "No. Observations:                 585   AIC:                             1494.\n",
       "Df Residuals:                     579   BIC:                             1520.\n",
       "Df Model:                           5                                         \n",
       "Covariance Type:            nonrobust                                         \n",
       "==================================================================================\n",
       "                     coef    std err          t      P>|t|      [0.025      0.975]\n",
       "----------------------------------------------------------------------------------\n",
       "const          -3.456e-15      0.036  -9.68e-14      1.000      -0.070       0.070\n",
       "alcohol            0.5566      0.061      9.156      0.000       0.437       0.676\n",
       "residual sugar    -0.0024      0.044     -0.053      0.957      -0.089       0.084\n",
       "pH                -0.1315      0.061     -2.165      0.031      -0.251      -0.012\n",
       "density            0.0760      0.083      0.910      0.363      -0.088       0.240\n",
       "fixed acidity      0.0079      0.088      0.091      0.928      -0.164       0.180\n",
       "==============================================================================\n",
       "Omnibus:                       25.074   Durbin-Watson:                   1.984\n",
       "Prob(Omnibus):                  0.000   Jarque-Bera (JB):               45.210\n",
       "Skew:                          -0.286   Prob(JB):                     1.52e-10\n",
       "Kurtosis:                       4.236   Cond. No.                         5.85\n",
       "==============================================================================\n",
       "\n",
       "Warnings:\n",
       "[1] Standard Errors assume that the covariance matrix of the errors is correctly specified.\n",
       "\"\"\""
      ]
     },
     "execution_count": 70,
     "metadata": {},
     "output_type": "execute_result"
    }
   ],
   "source": [
    "# Validating the regression model by running it on the test data set. Does not match\n",
    "X_test = pd.DataFrame(wine_test[['alcohol', 'residual sugar', 'pH', 'density', 'fixed acidity']])\n",
    "Xz_test = pd.DataFrame(stats.zscore(X_test), columns = ['alcohol', 'residual sugar', 'pH', 'density', 'fixed acidity'])\n",
    "Y_test = pd.DataFrame(wine_test[['quality']])\n",
    "Yz_test = pd.DataFrame(stats.zscore(Y_test), columns = [['quality']])\n",
    "Xz_test = sm.add_constant(Xz_test)\n",
    "model01_test = sm.OLS(Yz_test, Xz_test).fit()\n",
    "model01_test.summary()"
   ]
  },
  {
   "cell_type": "code",
   "execution_count": 71,
   "metadata": {},
   "outputs": [
    {
     "data": {
      "text/plain": [
       "[1.0,\n",
       " 2.725132697275974,\n",
       " 1.472854870800106,\n",
       " 2.6049882952512564,\n",
       " 5.446835149159627,\n",
       " 5.72926780782868]"
      ]
     },
     "execution_count": 71,
     "metadata": {},
     "output_type": "execute_result"
    }
   ],
   "source": [
    "# Calculate the variance inflation factors\n",
    "[inf.variance_inflation_factor(Xz.values, i) for i in range(Xz.shape[1])]"
   ]
  },
  {
   "cell_type": "markdown",
   "metadata": {},
   "source": [
    "Q34. Perform PCA using varimax rotation. Show the rotated proportions of variance explained for extracting up to five components. \n",
    "<ol><li>What percent of the variability is explained by one component? \n",
    "    <ul><li> 45.6%</ul>\n",
    "        <ol>By two components? \n",
    "    <ul><li> 67.6%</ul>\n",
    "    <ol>By three components? \n",
    "    <ul><li> 88.0%</ul>\n",
    "    <ol>By four components? \n",
    "    <ul><li> 98.5%</ul>\n",
    "    <ol>By all five components?\n",
    "        <ul><li> 100%</ul></ol>"
   ]
  },
  {
   "cell_type": "code",
   "execution_count": 3,
   "metadata": {},
   "outputs": [
    {
     "name": "stdout",
     "output_type": "stream",
     "text": [
      "The sklearn version is 0.23.1.\n"
     ]
    }
   ],
   "source": [
    "import sklearn\n",
    "print('The sklearn version is {}.'.format(sklearn.__version__))"
   ]
  },
  {
   "cell_type": "code",
   "execution_count": 4,
   "metadata": {},
   "outputs": [
    {
     "ename": "NameError",
     "evalue": "name 'PCA' is not defined",
     "output_type": "error",
     "traceback": [
      "\u001b[1;31m---------------------------------------------------------------------------\u001b[0m",
      "\u001b[1;31mNameError\u001b[0m                                 Traceback (most recent call last)",
      "\u001b[1;32m<ipython-input-4-6ed5a161b953>\u001b[0m in \u001b[0;36m<module>\u001b[1;34m\u001b[0m\n\u001b[1;32m----> 1\u001b[1;33m \u001b[0mpca01\u001b[0m \u001b[1;33m=\u001b[0m \u001b[0mPCA\u001b[0m\u001b[1;33m(\u001b[0m\u001b[0mn_components\u001b[0m\u001b[1;33m=\u001b[0m\u001b[1;36m5\u001b[0m\u001b[1;33m)\u001b[0m\u001b[1;33m\u001b[0m\u001b[1;33m\u001b[0m\u001b[0m\n\u001b[0m\u001b[0;32m      2\u001b[0m \u001b[0mpca01\u001b[0m\u001b[1;33m\u001b[0m\u001b[1;33m\u001b[0m\u001b[0m\n",
      "\u001b[1;31mNameError\u001b[0m: name 'PCA' is not defined"
     ]
    }
   ],
   "source": [
    "pca01 = PCA(n_components=5)\n",
    "pca01\n"
   ]
  },
  {
   "cell_type": "code",
   "execution_count": 73,
   "metadata": {},
   "outputs": [
    {
     "data": {
      "text/plain": [
       "array([[ 2.24038515, -0.6894783 , -1.46382124,  0.09562988, -0.03713986],\n",
       "       [ 3.94123558,  0.46698742, -1.18952399, -0.64721064, -0.51897882],\n",
       "       [-0.6415395 , -1.06106217, -1.12279373,  0.45901644, -0.50151167],\n",
       "       ...,\n",
       "       [-2.66355217,  2.3833288 ,  0.65208282, -0.36352791,  0.25984296],\n",
       "       [-4.59467707,  2.25831714,  0.87179219,  0.03973511,  0.02395642],\n",
       "       [-5.16725148,  1.29898686,  1.30503783, -1.04398859, -0.01576754]])"
      ]
     },
     "execution_count": 73,
     "metadata": {},
     "output_type": "execute_result"
    }
   ],
   "source": [
    "principComp = pca01.fit_transform(Xz)\n",
    "principComp"
   ]
  },
  {
   "cell_type": "code",
   "execution_count": 74,
   "metadata": {},
   "outputs": [
    {
     "data": {
      "text/plain": [
       "array([0.45592189, 0.21989834, 0.20432508, 0.10531236, 0.01454233])"
      ]
     },
     "execution_count": 74,
     "metadata": {},
     "output_type": "execute_result"
    }
   ],
   "source": [
    "pca01.explained_variance_ratio_"
   ]
  },
  {
   "cell_type": "code",
   "execution_count": 75,
   "metadata": {},
   "outputs": [
    {
     "data": {
      "text/plain": [
       "array([0.45592189, 0.67582023, 0.88014531, 0.98545767, 1.        ])"
      ]
     },
     "execution_count": 75,
     "metadata": {},
     "output_type": "execute_result"
    }
   ],
   "source": [
    "np.cumsum(pca01.explained_variance_ratio_)"
   ]
  },
  {
   "cell_type": "markdown",
   "metadata": {},
   "source": [
    "<b>35. Say we want to explain at least 90% of the variability. How many components does the proportion of variance explained criterion suggest we extract?</b><ul><li>Four components are required to explain AT LEAST 90% of the variability. Three components would explain 88%, and four components will explain 98.5%</ul></ol>"
   ]
  },
  {
   "cell_type": "markdown",
   "metadata": {},
   "source": [
    "<b>36. Make a plot of the eigenvalues of the five components. According to the eigenvalue criterion, how many components should we extract?</b>"
   ]
  }
 ],
 "metadata": {
  "kernelspec": {
   "display_name": "Python 3",
   "language": "python",
   "name": "python3"
  },
  "language_info": {
   "codemirror_mode": {
    "name": "ipython",
    "version": 3
   },
   "file_extension": ".py",
   "mimetype": "text/x-python",
   "name": "python",
   "nbconvert_exporter": "python",
   "pygments_lexer": "ipython3",
   "version": "3.8.3"
  }
 },
 "nbformat": 4,
 "nbformat_minor": 4
}
