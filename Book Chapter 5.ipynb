{
 "cells": [
  {
   "cell_type": "code",
   "execution_count": 99,
   "metadata": {},
   "outputs": [
    {
     "data": {
      "text/plain": [
       "(4119, 21)"
      ]
     },
     "execution_count": 99,
     "metadata": {},
     "output_type": "execute_result"
    }
   ],
   "source": [
    "import pandas as pd\n",
    "from sklearn.model_selection import train_test_split\n",
    "import random\n",
    "bank = pd.read_csv(\"C:/Users/jacob/Downloads/DSPR_Data_Sets/Website Data Sets/bank-additional.csv\", header = 0, engine = 'python', delimiter=\"\\;\")\n",
    "bank_train, bank_test = train_test_split(bank, test_size = 0.25, random_state = 7)\n",
    "bank.shape"
   ]
  },
  {
   "cell_type": "code",
   "execution_count": 100,
   "metadata": {},
   "outputs": [
    {
     "data": {
      "text/plain": [
       "(3089, 21)"
      ]
     },
     "execution_count": 100,
     "metadata": {},
     "output_type": "execute_result"
    }
   ],
   "source": [
    "bank_train.shape"
   ]
  },
  {
   "cell_type": "code",
   "execution_count": 101,
   "metadata": {},
   "outputs": [
    {
     "data": {
      "text/plain": [
       "(1030, 21)"
      ]
     },
     "execution_count": 101,
     "metadata": {},
     "output_type": "execute_result"
    }
   ],
   "source": [
    "bank_test.shape"
   ]
  },
  {
   "cell_type": "code",
   "execution_count": 102,
   "metadata": {},
   "outputs": [
    {
     "data": {
      "text/html": [
       "<div>\n",
       "<style scoped>\n",
       "    .dataframe tbody tr th:only-of-type {\n",
       "        vertical-align: middle;\n",
       "    }\n",
       "\n",
       "    .dataframe tbody tr th {\n",
       "        vertical-align: top;\n",
       "    }\n",
       "\n",
       "    .dataframe thead th {\n",
       "        text-align: right;\n",
       "    }\n",
       "</style>\n",
       "<table border=\"1\" class=\"dataframe\">\n",
       "  <thead>\n",
       "    <tr style=\"text-align: right;\">\n",
       "      <th></th>\n",
       "      <th>\"age</th>\n",
       "      <th>\"\"job\"\"</th>\n",
       "      <th>\"\"marital\"\"</th>\n",
       "      <th>\"\"education\"\"</th>\n",
       "      <th>\"\"default\"\"</th>\n",
       "      <th>\"\"housing\"\"</th>\n",
       "      <th>\"\"loan\"\"</th>\n",
       "      <th>\"\"contact\"\"</th>\n",
       "      <th>\"\"month\"\"</th>\n",
       "      <th>\"\"day_of_week\"\"</th>\n",
       "      <th>...</th>\n",
       "      <th>\"\"campaign\"\"</th>\n",
       "      <th>\"\"pdays\"\"</th>\n",
       "      <th>\"\"previous\"\"</th>\n",
       "      <th>\"\"poutcome\"\"</th>\n",
       "      <th>\"\"emp.var.rate\"\"</th>\n",
       "      <th>\"\"cons.price.idx\"\"</th>\n",
       "      <th>\"\"cons.conf.idx\"\"</th>\n",
       "      <th>\"\"euribor3m\"\"</th>\n",
       "      <th>\"\"nr.employed\"\"</th>\n",
       "      <th>\"\"y\"\"\"</th>\n",
       "    </tr>\n",
       "  </thead>\n",
       "  <tbody>\n",
       "    <tr>\n",
       "      <th>751</th>\n",
       "      <td>\"38</td>\n",
       "      <td>\"\"management\"\"</td>\n",
       "      <td>\"\"married\"\"</td>\n",
       "      <td>\"\"university.degree\"\"</td>\n",
       "      <td>\"\"no\"\"</td>\n",
       "      <td>\"\"no\"\"</td>\n",
       "      <td>\"\"yes\"\"</td>\n",
       "      <td>\"\"cellular\"\"</td>\n",
       "      <td>\"\"nov\"\"</td>\n",
       "      <td>\"\"fri\"\"</td>\n",
       "      <td>...</td>\n",
       "      <td>1</td>\n",
       "      <td>999</td>\n",
       "      <td>0</td>\n",
       "      <td>\"\"nonexistent\"\"</td>\n",
       "      <td>-0.1</td>\n",
       "      <td>93.200</td>\n",
       "      <td>-42.0</td>\n",
       "      <td>4.021</td>\n",
       "      <td>5195.8</td>\n",
       "      <td>\"\"no\"\"\"</td>\n",
       "    </tr>\n",
       "    <tr>\n",
       "      <th>2422</th>\n",
       "      <td>\"32</td>\n",
       "      <td>\"\"admin.\"\"</td>\n",
       "      <td>\"\"married\"\"</td>\n",
       "      <td>\"\"university.degree\"\"</td>\n",
       "      <td>\"\"no\"\"</td>\n",
       "      <td>\"\"no\"\"</td>\n",
       "      <td>\"\"no\"\"</td>\n",
       "      <td>\"\"telephone\"\"</td>\n",
       "      <td>\"\"may\"\"</td>\n",
       "      <td>\"\"thu\"\"</td>\n",
       "      <td>...</td>\n",
       "      <td>2</td>\n",
       "      <td>999</td>\n",
       "      <td>0</td>\n",
       "      <td>\"\"nonexistent\"\"</td>\n",
       "      <td>1.1</td>\n",
       "      <td>93.994</td>\n",
       "      <td>-36.4</td>\n",
       "      <td>4.860</td>\n",
       "      <td>5191.0</td>\n",
       "      <td>\"\"no\"\"\"</td>\n",
       "    </tr>\n",
       "    <tr>\n",
       "      <th>488</th>\n",
       "      <td>\"40</td>\n",
       "      <td>\"\"admin.\"\"</td>\n",
       "      <td>\"\"married\"\"</td>\n",
       "      <td>\"\"university.degree\"\"</td>\n",
       "      <td>\"\"no\"\"</td>\n",
       "      <td>\"\"yes\"\"</td>\n",
       "      <td>\"\"no\"\"</td>\n",
       "      <td>\"\"cellular\"\"</td>\n",
       "      <td>\"\"aug\"\"</td>\n",
       "      <td>\"\"tue\"\"</td>\n",
       "      <td>...</td>\n",
       "      <td>1</td>\n",
       "      <td>999</td>\n",
       "      <td>0</td>\n",
       "      <td>\"\"nonexistent\"\"</td>\n",
       "      <td>1.4</td>\n",
       "      <td>93.444</td>\n",
       "      <td>-36.1</td>\n",
       "      <td>4.966</td>\n",
       "      <td>5228.1</td>\n",
       "      <td>\"\"no\"\"\"</td>\n",
       "    </tr>\n",
       "    <tr>\n",
       "      <th>2021</th>\n",
       "      <td>\"55</td>\n",
       "      <td>\"\"admin.\"\"</td>\n",
       "      <td>\"\"divorced\"\"</td>\n",
       "      <td>\"\"university.degree\"\"</td>\n",
       "      <td>\"\"no\"\"</td>\n",
       "      <td>\"\"yes\"\"</td>\n",
       "      <td>\"\"no\"\"</td>\n",
       "      <td>\"\"telephone\"\"</td>\n",
       "      <td>\"\"may\"\"</td>\n",
       "      <td>\"\"thu\"\"</td>\n",
       "      <td>...</td>\n",
       "      <td>4</td>\n",
       "      <td>999</td>\n",
       "      <td>0</td>\n",
       "      <td>\"\"nonexistent\"\"</td>\n",
       "      <td>1.1</td>\n",
       "      <td>93.994</td>\n",
       "      <td>-36.4</td>\n",
       "      <td>4.855</td>\n",
       "      <td>5191.0</td>\n",
       "      <td>\"\"no\"\"\"</td>\n",
       "    </tr>\n",
       "    <tr>\n",
       "      <th>1268</th>\n",
       "      <td>\"51</td>\n",
       "      <td>\"\"entrepreneur\"\"</td>\n",
       "      <td>\"\"married\"\"</td>\n",
       "      <td>\"\"university.degree\"\"</td>\n",
       "      <td>\"\"no\"\"</td>\n",
       "      <td>\"\"no\"\"</td>\n",
       "      <td>\"\"no\"\"</td>\n",
       "      <td>\"\"telephone\"\"</td>\n",
       "      <td>\"\"may\"\"</td>\n",
       "      <td>\"\"wed\"\"</td>\n",
       "      <td>...</td>\n",
       "      <td>1</td>\n",
       "      <td>999</td>\n",
       "      <td>0</td>\n",
       "      <td>\"\"nonexistent\"\"</td>\n",
       "      <td>1.1</td>\n",
       "      <td>93.994</td>\n",
       "      <td>-36.4</td>\n",
       "      <td>4.856</td>\n",
       "      <td>5191.0</td>\n",
       "      <td>\"\"no\"\"\"</td>\n",
       "    </tr>\n",
       "  </tbody>\n",
       "</table>\n",
       "<p>5 rows × 21 columns</p>\n",
       "</div>"
      ],
      "text/plain": [
       "     \"age           \"\"job\"\"   \"\"marital\"\"          \"\"education\"\" \"\"default\"\"  \\\n",
       "751   \"38    \"\"management\"\"   \"\"married\"\"  \"\"university.degree\"\"      \"\"no\"\"   \n",
       "2422  \"32        \"\"admin.\"\"   \"\"married\"\"  \"\"university.degree\"\"      \"\"no\"\"   \n",
       "488   \"40        \"\"admin.\"\"   \"\"married\"\"  \"\"university.degree\"\"      \"\"no\"\"   \n",
       "2021  \"55        \"\"admin.\"\"  \"\"divorced\"\"  \"\"university.degree\"\"      \"\"no\"\"   \n",
       "1268  \"51  \"\"entrepreneur\"\"   \"\"married\"\"  \"\"university.degree\"\"      \"\"no\"\"   \n",
       "\n",
       "     \"\"housing\"\" \"\"loan\"\"    \"\"contact\"\" \"\"month\"\" \"\"day_of_week\"\"  ...  \\\n",
       "751       \"\"no\"\"  \"\"yes\"\"   \"\"cellular\"\"   \"\"nov\"\"         \"\"fri\"\"  ...   \n",
       "2422      \"\"no\"\"   \"\"no\"\"  \"\"telephone\"\"   \"\"may\"\"         \"\"thu\"\"  ...   \n",
       "488      \"\"yes\"\"   \"\"no\"\"   \"\"cellular\"\"   \"\"aug\"\"         \"\"tue\"\"  ...   \n",
       "2021     \"\"yes\"\"   \"\"no\"\"  \"\"telephone\"\"   \"\"may\"\"         \"\"thu\"\"  ...   \n",
       "1268      \"\"no\"\"   \"\"no\"\"  \"\"telephone\"\"   \"\"may\"\"         \"\"wed\"\"  ...   \n",
       "\n",
       "      \"\"campaign\"\"  \"\"pdays\"\"  \"\"previous\"\"     \"\"poutcome\"\" \"\"emp.var.rate\"\"  \\\n",
       "751              1        999             0  \"\"nonexistent\"\"             -0.1   \n",
       "2422             2        999             0  \"\"nonexistent\"\"              1.1   \n",
       "488              1        999             0  \"\"nonexistent\"\"              1.4   \n",
       "2021             4        999             0  \"\"nonexistent\"\"              1.1   \n",
       "1268             1        999             0  \"\"nonexistent\"\"              1.1   \n",
       "\n",
       "      \"\"cons.price.idx\"\"  \"\"cons.conf.idx\"\"  \"\"euribor3m\"\"  \"\"nr.employed\"\"  \\\n",
       "751               93.200              -42.0          4.021           5195.8   \n",
       "2422              93.994              -36.4          4.860           5191.0   \n",
       "488               93.444              -36.1          4.966           5228.1   \n",
       "2021              93.994              -36.4          4.855           5191.0   \n",
       "1268              93.994              -36.4          4.856           5191.0   \n",
       "\n",
       "       \"\"y\"\"\"  \n",
       "751   \"\"no\"\"\"  \n",
       "2422  \"\"no\"\"\"  \n",
       "488   \"\"no\"\"\"  \n",
       "2021  \"\"no\"\"\"  \n",
       "1268  \"\"no\"\"\"  \n",
       "\n",
       "[5 rows x 21 columns]"
      ]
     },
     "execution_count": 102,
     "metadata": {},
     "output_type": "execute_result"
    }
   ],
   "source": [
    "bank_train.head(n=5)"
   ]
  },
  {
   "cell_type": "code",
   "execution_count": 106,
   "metadata": {},
   "outputs": [
    {
     "data": {
      "text/plain": [
       "\"\"admin.\"\"           759\n",
       "\"\"blue-collar\"\"      648\n",
       "\"\"technician\"\"       534\n",
       "\"\"services\"\"         300\n",
       "\"\"management\"\"       244\n",
       "\"\"self-employed\"\"    131\n",
       "\"\"retired\"\"          120\n",
       "\"\"entrepreneur\"\"     109\n",
       "\"\"unemployed\"\"        78\n",
       "\"\"housemaid\"\"         75\n",
       "\"\"student\"\"           62\n",
       "\"\"unknown\"\"           29\n",
       "Name: \"\"job\"\", dtype: int64"
      ]
     },
     "execution_count": 106,
     "metadata": {},
     "output_type": "execute_result"
    }
   ],
   "source": [
    "bank_train['\"\"job\"\"'].value_counts()\n"
   ]
  },
  {
   "cell_type": "code",
   "execution_count": null,
   "metadata": {},
   "outputs": [],
   "source": [
    "to_resample = bank_train.loc[bank_train['\"\"y\"\"'] ==\"yes\"]"
   ]
  }
 ],
 "metadata": {
  "kernelspec": {
   "display_name": "Python 3",
   "language": "python",
   "name": "python3"
  },
  "language_info": {
   "codemirror_mode": {
    "name": "ipython",
    "version": 3
   },
   "file_extension": ".py",
   "mimetype": "text/x-python",
   "name": "python",
   "nbconvert_exporter": "python",
   "pygments_lexer": "ipython3",
   "version": "3.8.3"
  }
 },
 "nbformat": 4,
 "nbformat_minor": 4
}
