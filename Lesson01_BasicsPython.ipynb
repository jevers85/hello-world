{
 "cells": [
  {
   "cell_type": "markdown",
   "metadata": {},
   "source": [
    "# Outline (header 1)\n",
    "\n",
    "## 1. Variable and Datatype (header 2)\n",
    "\n",
    "### 1.1 Definition\n",
    "### 1.2 Legal Variable Name\n",
    "### 1.3 Classification between different Datatype -- Casting\n",
    "\n",
    "## 2. Fundamental Statement\n",
    "\n",
    "### 2.1 Assignment\n",
    "### 2.2 Conditional Statement\n",
    "### 2.3 Loop\n",
    "\n",
    "## 3. Demo  (ctrl+enter)"
   ]
  },
  {
   "cell_type": "code",
   "execution_count": 1,
   "metadata": {},
   "outputs": [
    {
     "name": "stdout",
     "output_type": "stream",
     "text": [
      "<class 'int'>\n",
      "<class 'float'>\n"
     ]
    }
   ],
   "source": [
    "x = 5     #x is a variable of type integer(a memory entity identified by a unique name)\n",
    "dan = 3.14 # dan is a variable of type float\n",
    "# data type defines the size and format of variables\n",
    "print(type(x))\n",
    "print(type(dan))"
   ]
  },
  {
   "cell_type": "markdown",
   "metadata": {},
   "source": [
    "Legal variable name: \n",
    "Rule 1: consisting of letters, digits, and _\n",
    "Rule 2: never start with digits\n",
    "Rule 3: no reserved word \n",
    "\n",
    "x y = 20 X\n",
    "7ryan X\n",
    "while = \"Re\" x\n",
    "_karen___123 YES"
   ]
  },
  {
   "cell_type": "markdown",
   "metadata": {},
   "source": [
    "Classification of data type (EXTREMELY IMPORTANT)\n",
    "-> Numeric (int, float, complex)\n",
    "-> bool (True/False)\n",
    "-> String\n",
    "-> list (you can change it)\n",
    "-> tuple (immutable)\n",
    "-> numpy (high dimensional array)"
   ]
  },
  {
   "cell_type": "code",
   "execution_count": 7,
   "metadata": {},
   "outputs": [
    {
     "name": "stdout",
     "output_type": "stream",
     "text": [
      "3.14\n"
     ]
    }
   ],
   "source": [
    "# casting\n",
    "str = \"3.14\"\n",
    "x = float(str) # casting a String into int\n",
    "print(x)"
   ]
  },
  {
   "cell_type": "code",
   "execution_count": 5,
   "metadata": {},
   "outputs": [
    {
     "name": "stdout",
     "output_type": "stream",
     "text": [
      "42\n"
     ]
    }
   ],
   "source": [
    "kevin = 42.3\n",
    "liz = int(kevin)\n",
    "print(liz)"
   ]
  },
  {
   "cell_type": "markdown",
   "metadata": {},
   "source": [
    "Exercise 1: Prompt user to type in household income, calculate the tax (tax rate is: 23%), and output it"
   ]
  },
  {
   "cell_type": "code",
   "execution_count": 10,
   "metadata": {},
   "outputs": [
    {
     "name": "stdout",
     "output_type": "stream",
     "text": [
      "Enter the household income100000\n",
      "You owe $23000.0\n"
     ]
    }
   ],
   "source": [
    "# part 1: prompt user to type in household income\n",
    "income = float(input(\"Enter the household income\"))\n",
    "\n",
    "# part 2: calculate the tax\n",
    "tax_owed = income * 0.23\n",
    "\n",
    "# part 3: output the tax\n",
    "print(f\"You owe ${tax_owed}\") # placeholder"
   ]
  },
  {
   "cell_type": "markdown",
   "metadata": {},
   "source": [
    "Conditional Statement\n",
    "-> comparison operators (<, >, >=, <=, ==, !=)\n",
    "-> logic operators (and, or, not)\n",
    "-> flowchart"
   ]
  },
  {
   "cell_type": "markdown",
   "metadata": {},
   "source": [
    "Exercise 2: Prompt the user to enter household income, compute the tax rate (income < 50000, rate is 0.2; otherwise, rate will be 0.5), calculate the tax and output it."
   ]
  },
  {
   "cell_type": "code",
   "execution_count": 18,
   "metadata": {},
   "outputs": [
    {
     "name": "stdout",
     "output_type": "stream",
     "text": [
      "Enter your household income500000\n",
      "You owe $23000.0 for income tax.\n"
     ]
    }
   ],
   "source": [
    "#part 1: prompt user to enter household income\n",
    "income = float(input(\"Enter your household income \"))\n",
    "\n",
    "#part 2: compute the tax rate\n",
    "if (income < 50000):\n",
    "    rate = 0.2   \n",
    "else:\n",
    "    rate = 0.5\n",
    "\n",
    "#part 3: compute the tax\n",
    "tax = income*rate\n",
    "\n",
    "#part 4: output the tax\n",
    "print(f\"You owe ${tax_owed} for income tax.\")"
   ]
  },
  {
   "cell_type": "markdown",
   "metadata": {},
   "source": [
    "Exercise 3: compute the following mathematics series: 1 + 2 + 3 + ... + 100"
   ]
  },
  {
   "cell_type": "code",
   "execution_count": 19,
   "metadata": {},
   "outputs": [
    {
     "name": "stdout",
     "output_type": "stream",
     "text": [
      "5050\n"
     ]
    }
   ],
   "source": [
    "result = 0\n",
    "\n",
    "for x in range(1,101):\n",
    "    result = result + x\n",
    "print(result)\n"
   ]
  },
  {
   "cell_type": "markdown",
   "metadata": {},
   "source": [
    "Exercise 4: compute the following mathematics series: 1 - 1/2 + 1/3 - 1/4 + 1/5 ... + 1/99 - 1/100"
   ]
  },
  {
   "cell_type": "code",
   "execution_count": 22,
   "metadata": {},
   "outputs": [
    {
     "name": "stdout",
     "output_type": "stream",
     "text": [
      "0.688172179310195\n"
     ]
    }
   ],
   "source": [
    "# My attempt\n",
    "result = 0\n",
    "\n",
    "for x in range(1,101):\n",
    "    if x%2 == 0:\n",
    "        result = result - 1/x\n",
    "    else:\n",
    "        result = 1/x + result\n",
    "print(result)\n",
    "        "
   ]
  },
  {
   "cell_type": "code",
   "execution_count": 23,
   "metadata": {},
   "outputs": [
    {
     "name": "stdout",
     "output_type": "stream",
     "text": [
      "0.688172179310195\n"
     ]
    }
   ],
   "source": [
    "# Prof result\n",
    "result = 0.0\n",
    "sign = 1.0\n",
    "for x in range(1,101):\n",
    "    result = result + sign/x\n",
    "    sign = -sign\n",
    "print(result)"
   ]
  },
  {
   "cell_type": "markdown",
   "metadata": {},
   "source": [
    "Exercise 5: While loop: Prompt user to enter a series of student scores (0 - 100) until a negative score is typed in. Compute the average scores and the percentage of students who passed the exam: output the results"
   ]
  },
  {
   "cell_type": "code",
   "execution_count": 24,
   "metadata": {},
   "outputs": [
    {
     "name": "stdout",
     "output_type": "stream",
     "text": [
      "Type in score:50\n",
      "Type in score:78\n",
      "Type in score:65\n",
      "Type in score:92\n",
      "Type in score:12\n",
      "Type in score:-1\n",
      "The average score is: 59.4\n",
      "Passing rate is: 0.6\n"
     ]
    }
   ],
   "source": [
    "# part 1: initialize all the variables: finished, count, count_passed, total_scores\n",
    "finished = False\n",
    "count = 0\n",
    "count_passed = 0\n",
    "total_score = 0\n",
    "\n",
    "# part 2: prompt user to enter a sequence of scores until a negative 1 is entered, analyze the scores\n",
    "while not finished:\n",
    "    score = float(input(\"Type in score:\"))\n",
    "    if score < 0:\n",
    "        finished = True\n",
    "    else:\n",
    "        total_score = total_score + score\n",
    "        count = count + 1\n",
    "        if score >= 60:\n",
    "            count_passed = count_passed + 1\n",
    "\n",
    "# part 3: output the average scores and the passing rate\n",
    "average = total_score/count\n",
    "print(f\"The average score is: {average}\")\n",
    "\n",
    "passing_rate = count_passed/count\n",
    "print(f\"Passing rate is: {passing_rate}\")"
   ]
  },
  {
   "cell_type": "code",
   "execution_count": null,
   "metadata": {},
   "outputs": [],
   "source": []
  }
 ],
 "metadata": {
  "kernelspec": {
   "display_name": "Python 3",
   "language": "python",
   "name": "python3"
  },
  "language_info": {
   "codemirror_mode": {
    "name": "ipython",
    "version": 3
   },
   "file_extension": ".py",
   "mimetype": "text/x-python",
   "name": "python",
   "nbconvert_exporter": "python",
   "pygments_lexer": "ipython3",
   "version": "3.8.3"
  }
 },
 "nbformat": 4,
 "nbformat_minor": 4
}
