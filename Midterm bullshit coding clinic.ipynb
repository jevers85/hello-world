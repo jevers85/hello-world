{
 "cells": [
  {
   "cell_type": "code",
   "execution_count": 68,
   "metadata": {},
   "outputs": [],
   "source": [
    "People = ('Dan','Rebecca', 'Ryan', 'Nathaniel', 'Jacob', 'Azilee', 'Kristi', 'Kevin', 'Yogi', 'Scott')\n",
    "Masks = ('Yoda', 'WW', 'VanGogh', 'Nemo','Palpatine', 'R2D2', 'Mando', 'BlackCat', 'Vader', 'Whatever' )"
   ]
  },
  {
   "cell_type": "code",
   "execution_count": 69,
   "metadata": {},
   "outputs": [
    {
     "data": {
      "text/plain": [
       "'Yoda'"
      ]
     },
     "execution_count": 69,
     "metadata": {},
     "output_type": "execute_result"
    }
   ],
   "source": [
    "Dunno = zip(People, Masks)\n",
    "dictPeopleMasks = dict(Dunno)\n",
    "#print(dictPeopleMasks)\n",
    "dictPeopleMasks['Dan']"
   ]
  },
  {
   "cell_type": "code",
   "execution_count": 70,
   "metadata": {},
   "outputs": [],
   "source": [
    "def EnMask(lstP,lstM):\n",
    "    RET = []\n",
    "    zipPM = zip(lstP, lstM)\n",
    "    RET = dict(zipPM)\n",
    "    return RET"
   ]
  },
  {
   "cell_type": "code",
   "execution_count": 71,
   "metadata": {},
   "outputs": [],
   "source": [
    "dictPM = EnMask(People, Masks)"
   ]
  },
  {
   "cell_type": "code",
   "execution_count": 72,
   "metadata": {},
   "outputs": [],
   "source": [
    "def DeMask(lstP,lstM):\n",
    "    RET = []\n",
    "    zipMP = zip(lstM, lstP)\n",
    "    RET = dict(zipMP)\n",
    "    return RET"
   ]
  },
  {
   "cell_type": "code",
   "execution_count": 73,
   "metadata": {},
   "outputs": [],
   "source": [
    "dictMP = DeMask(People, Masks)"
   ]
  },
  {
   "cell_type": "code",
   "execution_count": 74,
   "metadata": {},
   "outputs": [
    {
     "data": {
      "text/plain": [
       "{'Dan': 'Yoda',\n",
       " 'Rebecca': 'WW',\n",
       " 'Ryan': 'VanGogh',\n",
       " 'Nathaniel': 'Nemo',\n",
       " 'Jacob': 'Palpatine',\n",
       " 'Azilee': 'R2D2',\n",
       " 'Kristi': 'Mando',\n",
       " 'Kevin': 'BlackCat',\n",
       " 'Yogi': 'Vader',\n",
       " 'Scott': 'Whatever'}"
      ]
     },
     "execution_count": 74,
     "metadata": {},
     "output_type": "execute_result"
    }
   ],
   "source": [
    "dictPM"
   ]
  },
  {
   "cell_type": "code",
   "execution_count": 75,
   "metadata": {},
   "outputs": [
    {
     "data": {
      "text/plain": [
       "'VanGogh'"
      ]
     },
     "execution_count": 75,
     "metadata": {},
     "output_type": "execute_result"
    }
   ],
   "source": [
    "dictPM['Ryan']"
   ]
  },
  {
   "cell_type": "code",
   "execution_count": 76,
   "metadata": {},
   "outputs": [
    {
     "data": {
      "text/plain": [
       "'Scott'"
      ]
     },
     "execution_count": 76,
     "metadata": {},
     "output_type": "execute_result"
    }
   ],
   "source": [
    "dictMP['Whatever']"
   ]
  },
  {
   "cell_type": "code",
   "execution_count": 77,
   "metadata": {},
   "outputs": [
    {
     "data": {
      "text/plain": [
       "[('x', 'p'), ('y', 'q'), ('z', 'r')]"
      ]
     },
     "execution_count": 77,
     "metadata": {},
     "output_type": "execute_result"
    }
   ],
   "source": [
    "setA = {'a','b','c'}\n",
    "set1 = {1,2,3}\n",
    "zipA1 = zip(setA,set1)\n",
    "lstA1 = list(zipA1)\n",
    "lstA1\n",
    "lstZQ = list(zip(['x','y','z'],['p','q','r']))\n",
    "lstZQ"
   ]
  },
  {
   "cell_type": "code",
   "execution_count": null,
   "metadata": {},
   "outputs": [],
   "source": []
  }
 ],
 "metadata": {
  "kernelspec": {
   "display_name": "Python 3",
   "language": "python",
   "name": "python3"
  },
  "language_info": {
   "codemirror_mode": {
    "name": "ipython",
    "version": 3
   },
   "file_extension": ".py",
   "mimetype": "text/x-python",
   "name": "python",
   "nbconvert_exporter": "python",
   "pygments_lexer": "ipython3",
   "version": "3.8.3"
  }
 },
 "nbformat": 4,
 "nbformat_minor": 4
}
