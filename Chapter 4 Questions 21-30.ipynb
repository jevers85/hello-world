{
 "cells": [
  {
   "cell_type": "markdown",
   "metadata": {},
   "source": [
    "# Jacob Evers - CPSC 5175\n",
    "## Chapter 4, Questions 21-25"
   ]
  },
  {
   "cell_type": "code",
   "execution_count": 2,
   "metadata": {},
   "outputs": [
    {
     "data": {
      "text/plain": [
       "(26874, 21)"
      ]
     },
     "execution_count": 2,
     "metadata": {},
     "output_type": "execute_result"
    }
   ],
   "source": [
    "# Import the required packages\n",
    "import pandas as pd\n",
    "import numpy as np\n",
    "import matplotlib.pyplot as plt\n",
    "\n",
    "# Use pandas to read the csv file\n",
    "bank_train = pd.read_csv(\"C:/Users/jacob/Downloads/DSPR_Data_Sets/Website Data Sets/bank_marketing_training\")\n",
    "bank_train.shape"
   ]
  },
  {
   "cell_type": "markdown",
   "metadata": {},
   "source": [
    "<ol start = 21> <li> Produce the following graphs. What is the strength of each graph? Weakness?\n",
    "    <ol><li>Bar graph of \"marital\"\n",
    "        <ol><li><em> This graph is useful to visualize the relative distribution between the different categories of \"marital\", but it doesn't provide any information about the difference in behaviors or responses between the categories</em></ol>\n",
    "        <li>Bar graph of \"marital\", with overlay of \"response\".\n",
    "            <ol><li><em> This graph's strength is similar to the previous graph, in that it shows the distribution between the two groups, but overlaying response doesn't tell us much about how the \"response\" variable was different between the marital categories.</em></ol>\n",
    "            <li> Normalized bar graph of \"marital\", with overlay of \"response\".\n",
    "                <ol><em><li> This one is useful because it shows the response normalized, so we can see how the response varies from one category to another. In this case, it appears that the response is very similar across all categories. The significant drawback of this graph is that we don't see any information about how many people were in each category, so if the data were to show differences between the categories, we would have to be very cautious with that information and not draw conclusions straight from that graph.</em></ol></ol></ol>"
   ]
  },
  {
   "cell_type": "code",
   "execution_count": 3,
   "metadata": {},
   "outputs": [
    {
     "data": {
      "image/png": "[encoded data removed]",
      "text/plain": [
       "<Figure size 432x288 with 1 Axes>"
      ]
     },
     "metadata": {
      "needs_background": "light"
     },
     "output_type": "display_data"
    }
   ],
   "source": [
    "# Construct the bar graph for 21.a by counting the instances of each category of \"marital\" \n",
    "# and placing those counts in a bar chart\n",
    "pd.value_counts(bank_train['marital']).plot(kind='bar')\n",
    "\n",
    "# Create the contingency table with the \"marital\" and \"response\" variables that will be used for the next steps\n",
    "crosstab_01 = pd.crosstab(bank_train['marital'], bank_train['response'])"
   ]
  },
  {
   "cell_type": "code",
   "execution_count": 4,
   "metadata": {},
   "outputs": [
    {
     "data": {
      "text/plain": [
       "<matplotlib.axes._subplots.AxesSubplot at 0x24f4fcbf430>"
      ]
     },
     "execution_count": 4,
     "metadata": {},
     "output_type": "execute_result"
    },
    {
     "data": {
      "image/png": "[encoded data removed]",
      "text/plain": [
       "<Figure size 432x288 with 1 Axes>"
      ]
     },
     "metadata": {
      "needs_background": "light"
     },
     "output_type": "display_data"
    }
   ],
   "source": [
    "# Using the contingency table, create the stacked bar chart, overlaying \"response\" on \"marital\"\n",
    "crosstab_01.plot(kind='bar', stacked = True)"
   ]
  },
  {
   "cell_type": "code",
   "execution_count": 5,
   "metadata": {},
   "outputs": [
    {
     "data": {
      "text/plain": [
       "<matplotlib.axes._subplots.AxesSubplot at 0x24f4fd4bf40>"
      ]
     },
     "execution_count": 5,
     "metadata": {},
     "output_type": "execute_result"
    },
    {
     "data": {
      "image/png": "[encoded data removed]",
      "text/plain": [
       "<Figure size 432x288 with 1 Axes>"
      ]
     },
     "metadata": {
      "needs_background": "light"
     },
     "output_type": "display_data"
    }
   ],
   "source": [
    "# Creating a normalized contingency table\n",
    "crosstab_norm = crosstab_01.div(crosstab_01.sum(1), axis = 0)\n",
    "\n",
    "# Plotting the normalized table\n",
    "crosstab_norm.plot(kind='bar', stacked = True)"
   ]
  },
  {
   "cell_type": "markdown",
   "metadata": {},
   "source": [
    "<ol start = 22><li>Using the graph from exercise 21c, describe the relationship between \"marital\" and \"response\".\n",
    "    <ol><li><em>The normalized chart suggests that marital status is not a good predictor for response\n",
    "        </em></ol></ol>"
   ]
  },
  {
   "cell_type": "markdown",
   "metadata": {},
   "source": [
    "<ol start = 23><li>Do the following with the variables marital and response.\n",
    "<ol><li>Build a contingency table, being careful to have the correct variables representing the rows and columns. Report the counts and the column percentages.<ol><li><em> Please see the tables below for count and column percentage numbers</em></ol>\n",
    "    <li>Describe what the contingency table is telling you.<ol><li><em> The table is showing us that the largest category for \"marital\" is \"married\", containing 16,187 total responses, followed by \"single\", then \"divorced\", and finally, \"unknown\". The percentage table is leading us to the same conclusion we got from the graphs, namely, that there is very little difference between the four groups regarding response percentage.</ol></ol>"
   ]
  },
  {
   "cell_type": "code",
   "execution_count": 6,
   "metadata": {},
   "outputs": [
    {
     "data": {
      "text/html": [
       "<div>\n",
       "<style scoped>\n",
       "    .dataframe tbody tr th:only-of-type {\n",
       "        vertical-align: middle;\n",
       "    }\n",
       "\n",
       "    .dataframe tbody tr th {\n",
       "        vertical-align: top;\n",
       "    }\n",
       "\n",
       "    .dataframe thead th {\n",
       "        text-align: right;\n",
       "    }\n",
       "</style>\n",
       "<table border=\"1\" class=\"dataframe\">\n",
       "  <thead>\n",
       "    <tr style=\"text-align: right;\">\n",
       "      <th>marital</th>\n",
       "      <th>divorced</th>\n",
       "      <th>married</th>\n",
       "      <th>single</th>\n",
       "      <th>unknown</th>\n",
       "    </tr>\n",
       "    <tr>\n",
       "      <th>response</th>\n",
       "      <th></th>\n",
       "      <th></th>\n",
       "      <th></th>\n",
       "      <th></th>\n",
       "    </tr>\n",
       "  </thead>\n",
       "  <tbody>\n",
       "    <tr>\n",
       "      <th>no</th>\n",
       "      <td>2743</td>\n",
       "      <td>14579</td>\n",
       "      <td>6514</td>\n",
       "      <td>50</td>\n",
       "    </tr>\n",
       "    <tr>\n",
       "      <th>yes</th>\n",
       "      <td>312</td>\n",
       "      <td>1608</td>\n",
       "      <td>1061</td>\n",
       "      <td>7</td>\n",
       "    </tr>\n",
       "  </tbody>\n",
       "</table>\n",
       "</div>"
      ],
      "text/plain": [
       "marital   divorced  married  single  unknown\n",
       "response                                    \n",
       "no            2743    14579    6514       50\n",
       "yes            312     1608    1061        7"
      ]
     },
     "execution_count": 6,
     "metadata": {},
     "output_type": "execute_result"
    }
   ],
   "source": [
    "# Create, then display the \n",
    "crosstab_02 = pd.crosstab(bank_train['response'], bank_train['marital'])\n",
    "crosstab_02"
   ]
  },
  {
   "cell_type": "code",
   "execution_count": 7,
   "metadata": {},
   "outputs": [
    {
     "data": {
      "text/html": [
       "<div>\n",
       "<style scoped>\n",
       "    .dataframe tbody tr th:only-of-type {\n",
       "        vertical-align: middle;\n",
       "    }\n",
       "\n",
       "    .dataframe tbody tr th {\n",
       "        vertical-align: top;\n",
       "    }\n",
       "\n",
       "    .dataframe thead th {\n",
       "        text-align: right;\n",
       "    }\n",
       "</style>\n",
       "<table border=\"1\" class=\"dataframe\">\n",
       "  <thead>\n",
       "    <tr style=\"text-align: right;\">\n",
       "      <th>marital</th>\n",
       "      <th>divorced</th>\n",
       "      <th>married</th>\n",
       "      <th>single</th>\n",
       "      <th>unknown</th>\n",
       "    </tr>\n",
       "    <tr>\n",
       "      <th>response</th>\n",
       "      <th></th>\n",
       "      <th></th>\n",
       "      <th></th>\n",
       "      <th></th>\n",
       "    </tr>\n",
       "  </thead>\n",
       "  <tbody>\n",
       "    <tr>\n",
       "      <th>no</th>\n",
       "      <td>89.8</td>\n",
       "      <td>90.1</td>\n",
       "      <td>86.0</td>\n",
       "      <td>87.7</td>\n",
       "    </tr>\n",
       "    <tr>\n",
       "      <th>yes</th>\n",
       "      <td>10.2</td>\n",
       "      <td>9.9</td>\n",
       "      <td>14.0</td>\n",
       "      <td>12.3</td>\n",
       "    </tr>\n",
       "  </tbody>\n",
       "</table>\n",
       "</div>"
      ],
      "text/plain": [
       "marital   divorced  married  single  unknown\n",
       "response                                    \n",
       "no            89.8     90.1    86.0     87.7\n",
       "yes           10.2      9.9    14.0     12.3"
      ]
     },
     "execution_count": 7,
     "metadata": {},
     "output_type": "execute_result"
    }
   ],
   "source": [
    "round(crosstab_02.div(crosstab_02.sum(0), axis = 1)*100, 1)"
   ]
  },
  {
   "cell_type": "markdown",
   "metadata": {},
   "source": [
    "\n",
    "<p> 24. Repeat the previous exercise, this time reporting the row percentages. Explain the difference between the interpretation of this table and the previous contingency table.</p>\n",
    "<p><em> Reading the row percentages will give the breakdown between \"yes\" and \"no\" responses, so for the entire data set, we have 87.5% responding \"no\", and 12.5% responding yes. </em></p>"
   ]
  },
  {
   "cell_type": "markdown",
   "metadata": {},
   "source": [
    "<ol start = 25><li>Produce the following graphs. What is the strength of each graph? Weakness?\n",
    "<ol><li>Histogram of duration.<ol><li><em> The histogram of duration shows that the vast majority of responses are within the 0-500 range, but doesn't give any information about the change in response with respect to duration.</em></ol>\n",
    "<li>Histogram of duration, with overlay of response.\n",
    "    <ol><li><em> This graph appears to show that response \"yes\" is increasing as the duration increases, but it's hard to know for sure because the 0-500 bar is so large that the rest of the graph is dwarfed.</em></ol>\n",
    "    <li>Normalized histogram of duration, with overlay of response.\n",
    "    <ol><em> This graph shows that the percentage of \"yes\" responses increases dramatically past the 500 day mark, but could potentially be misleading if not considered alongside the non-normalized graph, as it doesn't give any information about how many responses are within each bin.</ol></em></ol></ol>"
   ]
  },
  {
   "cell_type": "code",
   "execution_count": 8,
   "metadata": {
    "scrolled": true
   },
   "outputs": [
    {
     "data": {
      "text/plain": [
       "(array([2.357e+04, 2.667e+03, 4.950e+02, 9.600e+01, 2.900e+01, 6.000e+00,\n",
       "        6.000e+00, 3.000e+00, 1.000e+00, 1.000e+00]),\n",
       " array([   0. ,  491.8,  983.6, 1475.4, 1967.2, 2459. , 2950.8, 3442.6,\n",
       "        3934.4, 4426.2, 4918. ]),\n",
       " <a list of 10 Patch objects>)"
      ]
     },
     "execution_count": 8,
     "metadata": {},
     "output_type": "execute_result"
    },
    {
     "data": {
      "image/png": "[encoded data removed]",
      "text/plain": [
       "<Figure size 432x288 with 1 Axes>"
      ]
     },
     "metadata": {
      "needs_background": "light"
     },
     "output_type": "display_data"
    }
   ],
   "source": [
    "# 25A\n",
    "# Count duration and plot the histogram\n",
    "bt_duration = bank_train['duration']\n",
    "plt.hist([bt_duration], bins = 10, stacked = False)"
   ]
  },
  {
   "cell_type": "code",
   "execution_count": 9,
   "metadata": {},
   "outputs": [
    {
     "data": {
      "image/png": "[encoded data removed]",
      "text/plain": [
       "<Figure size 432x288 with 1 Axes>"
      ]
     },
     "metadata": {
      "needs_background": "light"
     },
     "output_type": "display_data"
    }
   ],
   "source": [
    "# 25B\n",
    "# Calculate the proporotion of yes and no responses wrt duration, and create a histogram\n",
    "bt_duration_y = bank_train[bank_train.response =='yes']['duration']\n",
    "bt_duration_n = bank_train[bank_train.response == 'no']['duration']\n",
    "(n, bins, patches) = plt.hist([bt_duration_y, bt_duration_n], bins = 10, stacked = True)\n",
    "plt.legend(['Response = Yes', 'Response = No'])\n",
    "plt.title('Histogram of Duration with Response Overlay')\n",
    "plt.xlabel('Duration');plt.ylabel('Frequency');plt.show()"
   ]
  },
  {
   "cell_type": "code",
   "execution_count": 10,
   "metadata": {},
   "outputs": [
    {
     "data": {
      "image/png": "[encoded data removed]",
      "text/plain": [
       "<Figure size 432x288 with 1 Axes>"
      ]
     },
     "metadata": {
      "needs_background": "light"
     },
     "output_type": "display_data"
    }
   ],
   "source": [
    "# 25C\n",
    "# Normalize the data and create a histogram\n",
    "n_table = np.column_stack((n[0], n[1]))\n",
    "n_norm = n_table / n_table.sum(axis=1)[:, None]\n",
    "ourbins = np.column_stack((bins[0:10], bins[1:11]))\n",
    "p1 = plt.bar(x = ourbins [:,0], height = n_norm[:,0], width = ourbins[:,1] - ourbins[:,0])\n",
    "p2 = plt.bar(x = ourbins [:,0], height = n_norm[:,1], width = ourbins[:,1] - ourbins[:,0], bottom = n_norm[:,0])\n",
    "plt.legend(['Response - Yes', 'Response = No'])\n",
    "plt.title('Normalized Histogram of Duration with Response Overlay')\n",
    "plt.xlabel('Duration (Days)'); plt.ylabel('Proportion'); plt.show() "
   ]
  },
  {
   "cell_type": "markdown",
   "metadata": {},
   "source": [
    "<p> 26. Using the graph from Exercise 25c, describe the relationship between duration and response.</p>\n",
    "<p><em> Response sharply increases after the 500 day mark, and maintains that level until around 3000, where it dips again, before rising. The sample size for the responses on the higher end of the scale are significantly lower, so it is difficult to determine whether the dip around 3000 is valid.</p></em>"
   ]
  },
  {
   "cell_type": "markdown",
   "metadata": {},
   "source": [
    "<ol start = 27> <li>Examine the non‐normalized and normalized histograms of duration, with overlay of response. Identify cutoff point(s) for duration, which separate low values of response from high values. Define a new categorical variable, duration_binned, using the cutoff points you identified.</ol>\n",
    "\n",
    "<p> <em>Reviewing the normalized graph, it looks like the responses can be binned into three categories: 0-500 days, 501-2500 days, and 2500+</em> </p>"
   ]
  },
  {
   "cell_type": "code",
   "execution_count": 11,
   "metadata": {},
   "outputs": [],
   "source": [
    "bank_train['duration_binned'] = pd.cut(x = bank_train['duration'], bins = [0, 501, 2500, 4500], \n",
    "                                       labels=[\"Under 500\", \"500 to 2500\", \"over 2500\"], right = False)"
   ]
  },
  {
   "cell_type": "markdown",
   "metadata": {},
   "source": [
    "<ol start=28><li>Provide the following. Describe each of the results.\n",
    "<ol><li>Contingency table of duration_binned with response, with counts and column percentages.\n",
    "<li>Non‐normalized bar graph of duration_binned, with response overlay.\n",
    "<li>Normalized bar graph of duration_binned, with response overlay.\n",
    "    </ol></ol>"
   ]
  },
  {
   "cell_type": "code",
   "execution_count": 12,
   "metadata": {},
   "outputs": [
    {
     "data": {
      "text/html": [
       "<div>\n",
       "<style scoped>\n",
       "    .dataframe tbody tr th:only-of-type {\n",
       "        vertical-align: middle;\n",
       "    }\n",
       "\n",
       "    .dataframe tbody tr th {\n",
       "        vertical-align: top;\n",
       "    }\n",
       "\n",
       "    .dataframe thead th {\n",
       "        text-align: right;\n",
       "    }\n",
       "</style>\n",
       "<table border=\"1\" class=\"dataframe\">\n",
       "  <thead>\n",
       "    <tr style=\"text-align: right;\">\n",
       "      <th>duration_binned</th>\n",
       "      <th>Under 500</th>\n",
       "      <th>500 to 2500</th>\n",
       "      <th>over 2500</th>\n",
       "    </tr>\n",
       "    <tr>\n",
       "      <th>response</th>\n",
       "      <th></th>\n",
       "      <th></th>\n",
       "      <th></th>\n",
       "    </tr>\n",
       "  </thead>\n",
       "  <tbody>\n",
       "    <tr>\n",
       "      <th>no</th>\n",
       "      <td>22017</td>\n",
       "      <td>1860</td>\n",
       "      <td>8</td>\n",
       "    </tr>\n",
       "    <tr>\n",
       "      <th>yes</th>\n",
       "      <td>1657</td>\n",
       "      <td>1323</td>\n",
       "      <td>8</td>\n",
       "    </tr>\n",
       "  </tbody>\n",
       "</table>\n",
       "</div>"
      ],
      "text/plain": [
       "duration_binned  Under 500  500 to 2500  over 2500\n",
       "response                                          \n",
       "no                   22017         1860          8\n",
       "yes                   1657         1323          8"
      ]
     },
     "execution_count": 12,
     "metadata": {},
     "output_type": "execute_result"
    }
   ],
   "source": [
    "# 28A\n",
    "# Creating the contingency table of counts of \"response\" and \"duration_binned\"\n",
    "crosstab_03 = pd.crosstab(bank_train['response'], bank_train['duration_binned'])\n",
    "crosstab_03"
   ]
  },
  {
   "cell_type": "code",
   "execution_count": 13,
   "metadata": {},
   "outputs": [
    {
     "data": {
      "text/html": [
       "<div>\n",
       "<style scoped>\n",
       "    .dataframe tbody tr th:only-of-type {\n",
       "        vertical-align: middle;\n",
       "    }\n",
       "\n",
       "    .dataframe tbody tr th {\n",
       "        vertical-align: top;\n",
       "    }\n",
       "\n",
       "    .dataframe thead th {\n",
       "        text-align: right;\n",
       "    }\n",
       "</style>\n",
       "<table border=\"1\" class=\"dataframe\">\n",
       "  <thead>\n",
       "    <tr style=\"text-align: right;\">\n",
       "      <th>duration_binned</th>\n",
       "      <th>Under 500</th>\n",
       "      <th>500 to 2500</th>\n",
       "      <th>over 2500</th>\n",
       "    </tr>\n",
       "    <tr>\n",
       "      <th>response</th>\n",
       "      <th></th>\n",
       "      <th></th>\n",
       "      <th></th>\n",
       "    </tr>\n",
       "  </thead>\n",
       "  <tbody>\n",
       "    <tr>\n",
       "      <th>no</th>\n",
       "      <td>93.0</td>\n",
       "      <td>58.4</td>\n",
       "      <td>50.0</td>\n",
       "    </tr>\n",
       "    <tr>\n",
       "      <th>yes</th>\n",
       "      <td>7.0</td>\n",
       "      <td>41.6</td>\n",
       "      <td>50.0</td>\n",
       "    </tr>\n",
       "  </tbody>\n",
       "</table>\n",
       "</div>"
      ],
      "text/plain": [
       "duration_binned  Under 500  500 to 2500  over 2500\n",
       "response                                          \n",
       "no                    93.0         58.4       50.0\n",
       "yes                    7.0         41.6       50.0"
      ]
     },
     "execution_count": 13,
     "metadata": {},
     "output_type": "execute_result"
    }
   ],
   "source": [
    "# Creating the contingency table with percentages\n",
    "round(crosstab_03.div(crosstab_03.sum(0), axis = 1)*100, 1)"
   ]
  },
  {
   "cell_type": "code",
   "execution_count": 14,
   "metadata": {},
   "outputs": [
    {
     "data": {
      "text/plain": [
       "<matplotlib.axes._subplots.AxesSubplot at 0x24f4fe7d0a0>"
      ]
     },
     "execution_count": 14,
     "metadata": {},
     "output_type": "execute_result"
    },
    {
     "data": {
      "image/png": "[encoded data removed]",
      "text/plain": [
       "<Figure size 432x288 with 1 Axes>"
      ]
     },
     "metadata": {
      "needs_background": "light"
     },
     "output_type": "display_data"
    }
   ],
   "source": [
    "# 28B\n",
    "# Creating the non-normalized bar graph of \"duration_binned\" with \"response\" overlaid\n",
    "crosstab_03.plot(kind = 'bar', stacked = True, title = \"Bar Graph of Duration (Binned) with Response Overlay\")"
   ]
  },
  {
   "cell_type": "code",
   "execution_count": 15,
   "metadata": {},
   "outputs": [
    {
     "data": {
      "text/plain": [
       "<matplotlib.axes._subplots.AxesSubplot at 0x24f4fbfdf10>"
      ]
     },
     "execution_count": 15,
     "metadata": {},
     "output_type": "execute_result"
    },
    {
     "data": {
      "image/png": "[encoded data removed]",
      "text/plain": [
       "<Figure size 432x288 with 1 Axes>"
      ]
     },
     "metadata": {
      "needs_background": "light"
     },
     "output_type": "display_data"
    }
   ],
   "source": [
    "# 28C\n",
    "# Normalizing the data and plotting it\n",
    "crosstab_norm = crosstab_03.div(crosstab_03.sum(1), axis = 0)\n",
    "crosstab_norm.plot(kind = 'bar', stacked = True)"
   ]
  },
  {
   "cell_type": "markdown",
   "metadata": {},
   "source": [
    "<p>29. Construct a contingency table of job with response, with counts and column percentages.</p>"
   ]
  },
  {
   "cell_type": "code",
   "execution_count": 16,
   "metadata": {},
   "outputs": [
    {
     "data": {
      "text/html": [
       "<div>\n",
       "<style scoped>\n",
       "    .dataframe tbody tr th:only-of-type {\n",
       "        vertical-align: middle;\n",
       "    }\n",
       "\n",
       "    .dataframe tbody tr th {\n",
       "        vertical-align: top;\n",
       "    }\n",
       "\n",
       "    .dataframe thead th {\n",
       "        text-align: right;\n",
       "    }\n",
       "</style>\n",
       "<table border=\"1\" class=\"dataframe\">\n",
       "  <thead>\n",
       "    <tr style=\"text-align: right;\">\n",
       "      <th>job</th>\n",
       "      <th>admin.</th>\n",
       "      <th>blue-collar</th>\n",
       "      <th>entrepreneur</th>\n",
       "      <th>housemaid</th>\n",
       "      <th>management</th>\n",
       "      <th>retired</th>\n",
       "      <th>self-employed</th>\n",
       "      <th>services</th>\n",
       "      <th>student</th>\n",
       "      <th>technician</th>\n",
       "      <th>unemployed</th>\n",
       "      <th>unknown</th>\n",
       "    </tr>\n",
       "    <tr>\n",
       "      <th>response</th>\n",
       "      <th></th>\n",
       "      <th></th>\n",
       "      <th></th>\n",
       "      <th></th>\n",
       "      <th></th>\n",
       "      <th></th>\n",
       "      <th></th>\n",
       "      <th></th>\n",
       "      <th></th>\n",
       "      <th></th>\n",
       "      <th></th>\n",
       "      <th></th>\n",
       "    </tr>\n",
       "  </thead>\n",
       "  <tbody>\n",
       "    <tr>\n",
       "      <th>no</th>\n",
       "      <td>5903</td>\n",
       "      <td>5631</td>\n",
       "      <td>842</td>\n",
       "      <td>639</td>\n",
       "      <td>1680</td>\n",
       "      <td>852</td>\n",
       "      <td>825</td>\n",
       "      <td>2380</td>\n",
       "      <td>404</td>\n",
       "      <td>3972</td>\n",
       "      <td>573</td>\n",
       "      <td>185</td>\n",
       "    </tr>\n",
       "    <tr>\n",
       "      <th>yes</th>\n",
       "      <td>854</td>\n",
       "      <td>420</td>\n",
       "      <td>72</td>\n",
       "      <td>70</td>\n",
       "      <td>209</td>\n",
       "      <td>291</td>\n",
       "      <td>93</td>\n",
       "      <td>201</td>\n",
       "      <td>194</td>\n",
       "      <td>465</td>\n",
       "      <td>94</td>\n",
       "      <td>25</td>\n",
       "    </tr>\n",
       "  </tbody>\n",
       "</table>\n",
       "</div>"
      ],
      "text/plain": [
       "job       admin.  blue-collar  entrepreneur  housemaid  management  retired  \\\n",
       "response                                                                      \n",
       "no          5903         5631           842        639        1680      852   \n",
       "yes          854          420            72         70         209      291   \n",
       "\n",
       "job       self-employed  services  student  technician  unemployed  unknown  \n",
       "response                                                                     \n",
       "no                  825      2380      404        3972         573      185  \n",
       "yes                  93       201      194         465          94       25  "
      ]
     },
     "execution_count": 16,
     "metadata": {},
     "output_type": "execute_result"
    }
   ],
   "source": [
    "crosstab_04 = pd.crosstab(bank_train['response'], bank_train['job'])\n",
    "crosstab_04"
   ]
  },
  {
   "cell_type": "code",
   "execution_count": 17,
   "metadata": {},
   "outputs": [
    {
     "data": {
      "text/html": [
       "<div>\n",
       "<style scoped>\n",
       "    .dataframe tbody tr th:only-of-type {\n",
       "        vertical-align: middle;\n",
       "    }\n",
       "\n",
       "    .dataframe tbody tr th {\n",
       "        vertical-align: top;\n",
       "    }\n",
       "\n",
       "    .dataframe thead th {\n",
       "        text-align: right;\n",
       "    }\n",
       "</style>\n",
       "<table border=\"1\" class=\"dataframe\">\n",
       "  <thead>\n",
       "    <tr style=\"text-align: right;\">\n",
       "      <th>job</th>\n",
       "      <th>admin.</th>\n",
       "      <th>blue-collar</th>\n",
       "      <th>entrepreneur</th>\n",
       "      <th>housemaid</th>\n",
       "      <th>management</th>\n",
       "      <th>retired</th>\n",
       "      <th>self-employed</th>\n",
       "      <th>services</th>\n",
       "      <th>student</th>\n",
       "      <th>technician</th>\n",
       "      <th>unemployed</th>\n",
       "      <th>unknown</th>\n",
       "    </tr>\n",
       "    <tr>\n",
       "      <th>response</th>\n",
       "      <th></th>\n",
       "      <th></th>\n",
       "      <th></th>\n",
       "      <th></th>\n",
       "      <th></th>\n",
       "      <th></th>\n",
       "      <th></th>\n",
       "      <th></th>\n",
       "      <th></th>\n",
       "      <th></th>\n",
       "      <th></th>\n",
       "      <th></th>\n",
       "    </tr>\n",
       "  </thead>\n",
       "  <tbody>\n",
       "    <tr>\n",
       "      <th>no</th>\n",
       "      <td>87.4</td>\n",
       "      <td>93.1</td>\n",
       "      <td>92.1</td>\n",
       "      <td>90.1</td>\n",
       "      <td>88.9</td>\n",
       "      <td>74.5</td>\n",
       "      <td>89.9</td>\n",
       "      <td>92.2</td>\n",
       "      <td>67.6</td>\n",
       "      <td>89.5</td>\n",
       "      <td>85.9</td>\n",
       "      <td>88.1</td>\n",
       "    </tr>\n",
       "    <tr>\n",
       "      <th>yes</th>\n",
       "      <td>12.6</td>\n",
       "      <td>6.9</td>\n",
       "      <td>7.9</td>\n",
       "      <td>9.9</td>\n",
       "      <td>11.1</td>\n",
       "      <td>25.5</td>\n",
       "      <td>10.1</td>\n",
       "      <td>7.8</td>\n",
       "      <td>32.4</td>\n",
       "      <td>10.5</td>\n",
       "      <td>14.1</td>\n",
       "      <td>11.9</td>\n",
       "    </tr>\n",
       "  </tbody>\n",
       "</table>\n",
       "</div>"
      ],
      "text/plain": [
       "job       admin.  blue-collar  entrepreneur  housemaid  management  retired  \\\n",
       "response                                                                      \n",
       "no          87.4         93.1          92.1       90.1        88.9     74.5   \n",
       "yes         12.6          6.9           7.9        9.9        11.1     25.5   \n",
       "\n",
       "job       self-employed  services  student  technician  unemployed  unknown  \n",
       "response                                                                     \n",
       "no                 89.9      92.2     67.6        89.5        85.9     88.1  \n",
       "yes                10.1       7.8     32.4        10.5        14.1     11.9  "
      ]
     },
     "execution_count": 17,
     "metadata": {},
     "output_type": "execute_result"
    }
   ],
   "source": [
    "round(crosstab_04.div(crosstab_04.sum(0), axis = 1)*100, 1)"
   ]
  },
  {
   "cell_type": "markdown",
   "metadata": {},
   "source": [
    "# Incomplete\n",
    "<ol start=30><li>Referring to the previous exercise, do the following:<ol>\n",
    "    <li>Combine the job categories according to the following response percentages: 0 < 10, 10 < 25, 25 < 33. Name the new variable job2.\n",
    "<li>Provide a contingency table of job2 with response, with counts and column percentages. Describe what you see.\n",
    "    <li>Provide a normalized histogram of job2 with response. Describe the relationship.</ol></ol>"
   ]
  },
  {
   "cell_type": "code",
   "execution_count": 18,
   "metadata": {},
   "outputs": [
    {
     "data": {
      "text/plain": [
       "<bound method NDFrame.head of job       admin.  blue-collar  entrepreneur  housemaid  management  retired  \\\n",
       "response                                                                      \n",
       "no          5903         5631           842        639        1680      852   \n",
       "yes          854          420            72         70         209      291   \n",
       "\n",
       "job       self-employed  services  student  technician  unemployed  unknown  \n",
       "response                                                                     \n",
       "no                  825      2380      404        3972         573      185  \n",
       "yes                  93       201      194         465          94       25  >"
      ]
     },
     "execution_count": 18,
     "metadata": {},
     "output_type": "execute_result"
    }
   ],
   "source": [
    "crosstab_04.head"
   ]
  },
  {
   "cell_type": "code",
   "execution_count": null,
   "metadata": {},
   "outputs": [],
   "source": []
  }
 ],
 "metadata": {
  "kernelspec": {
   "display_name": "Python 3",
   "language": "python",
   "name": "python3"
  },
  "language_info": {
   "codemirror_mode": {
    "name": "ipython",
    "version": 3
   },
   "file_extension": ".py",
   "mimetype": "text/x-python",
   "name": "python",
   "nbconvert_exporter": "python",
   "pygments_lexer": "ipython3",
   "version": "3.8.3"
  }
 },
 "nbformat": 4,
 "nbformat_minor": 4
}
