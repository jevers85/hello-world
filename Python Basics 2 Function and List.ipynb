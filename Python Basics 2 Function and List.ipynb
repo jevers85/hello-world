{
 "cells": [
  {
   "cell_type": "markdown",
   "metadata": {},
   "source": [
    "# Jacob Evers\n",
    "\n",
    "# CPSC 5175 HW 3: Python Basics 2: Function and List\n",
    "<p>Question 1: (Clean the duplicated number in a list) Define a function (def onlyDistinctValue(list)) that return a new list which only remove the duplicated numbers from  list.</p>\n",
    "\n",
    "<p>Hint: Read a number and store it to an list if it is new. If the number is already in the list, ignore it. After the execution, the resulting list only contains the distinct numbers.</p>\n",
    "\n",
    "<p>Here is the sample run of the program:</p>\n",
    "\n",
    "<p>Given an list:   [1 2 3 2 1 6 3 4 5 2]</p>\n",
    "\n",
    "<p>The resulting list without non-distinct numbers are:  [1 2 3 6 4 5 ]</p>"
   ]
  },
  {
   "cell_type": "code",
   "execution_count": 1,
   "metadata": {},
   "outputs": [
    {
     "name": "stdout",
     "output_type": "stream",
     "text": [
      "The original number list is: [1, 2, 3, 2, 1, 6, 3, 4, 5, 2]\n",
      "The list with duplicates removed is: {1, 2, 3, 4, 5, 6}\n"
     ]
    }
   ],
   "source": [
    "def only_distinct_values(list):\n",
    "    # Display the original list\n",
    "    print(\"The original number list is: \" + str(list))\n",
    "    # Use the set() function to remove duplicates\n",
    "    unique_list = set(list)\n",
    "    print(\"The list with duplicates removed is: \" + str(unique_list))\n",
    "    \n",
    "list = [1, 2, 3, 2, 1, 6, 3, 4, 5, 2]\n",
    "\n",
    "only_distinct_values(list)\n",
    "    "
   ]
  },
  {
   "cell_type": "markdown",
   "metadata": {},
   "source": [
    "<p>Question 2: (Count single digits) Write a function (def countDigits(n)) that generates n random integers between 0 and 9 and returns the count for each number.</p>\n",
    "\n",
    "<p>Hint:</p>\n",
    "<ul>\n",
    "<l>Use random.randrange(10) to generate a random integer between 0 and 9.</l>\n",
    "<l>Use an list of ten integers, say counts, to store the counts for the number of 0s, 1s, ..., 9s.)</l>\n",
    "</ul>"
   ]
  },
  {
   "cell_type": "code",
   "execution_count": 2,
   "metadata": {},
   "outputs": [
    {
     "name": "stdout",
     "output_type": "stream",
     "text": [
      "How many numbers do you want to generate? 12\n",
      "Random number list: [0, 3, 8, 3, 8, 5, 4, 3, 6, 9, 3, 8]\n",
      "The count of each digit: [1, 0, 0, 4, 1, 1, 1, 0, 3, 1]\n"
     ]
    }
   ],
   "source": [
    "# Import the random library to generate numbers\n",
    "import random\n",
    "\n",
    "def count_digits():\n",
    "    # Allow the user to determine how many digits to generate\n",
    "    n = int(input(\"How many numbers do you want to generate? \"))\n",
    "    # Create an empty list that we will use to store the results of our count\n",
    "    occurence = []\n",
    "    # Build a list of random ints with value between 0-9\n",
    "    result = [random.randrange(0,10) for i in range(n)]\n",
    "    # Print the randomly generated list\n",
    "    print(f\"Random number list: {str(result)}\")\n",
    "    # Execute a loop 10 times, counting how many times a value occurs, and append that count to the \"occurence\" list\n",
    "    for x in range (0, 10):\n",
    "        occurence.append(result.count(x))\n",
    "        x+1\n",
    "    print(f\"The count of each digit: {occurence}\")\n",
    "\n",
    "# Call the function\n",
    "count_digits()"
   ]
  },
  {
   "cell_type": "code",
   "execution_count": null,
   "metadata": {},
   "outputs": [],
   "source": []
  }
 ],
 "metadata": {
  "kernelspec": {
   "display_name": "Python 3",
   "language": "python",
   "name": "python3"
  },
  "language_info": {
   "codemirror_mode": {
    "name": "ipython",
    "version": 3
   },
   "file_extension": ".py",
   "mimetype": "text/x-python",
   "name": "python",
   "nbconvert_exporter": "python",
   "pygments_lexer": "ipython3",
   "version": "3.8.3"
  }
 },
 "nbformat": 4,
 "nbformat_minor": 4
}
